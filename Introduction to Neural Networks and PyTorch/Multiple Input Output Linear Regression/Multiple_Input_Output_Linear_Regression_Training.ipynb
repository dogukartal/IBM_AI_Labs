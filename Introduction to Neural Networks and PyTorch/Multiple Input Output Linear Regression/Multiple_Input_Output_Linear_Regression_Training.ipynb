{
  "cells": [
    {
      "cell_type": "markdown",
      "metadata": {
        "id": "view-in-github",
        "colab_type": "text"
      },
      "source": [
        "<a href=\"https://colab.research.google.com/github/dogukartal/IBM_AI_Labs/blob/main/Introduction%20to%20Neural%20Networks%20and%20PyTorch/Multiple%20Input%20Output%20Linear%20Regression/Multiple_Input_Output_Linear_Regression_Training.ipynb\" target=\"_parent\"><img src=\"https://colab.research.google.com/assets/colab-badge.svg\" alt=\"Open In Colab\"/></a>"
      ]
    },
    {
      "cell_type": "markdown",
      "metadata": {
        "id": "b01da6fe-6bbd-4d38-b7c9-706074222c56"
      },
      "source": [
        "# Linear Regression Multiple Inputs Outputs\n",
        "---"
      ]
    },
    {
      "cell_type": "code",
      "metadata": {
        "id": "112304dc-1c29-40e8-bcf6-b1cdb6663b98"
      },
      "outputs": [],
      "source": [
        "import torch\n",
        "import numpy as np\n",
        "import matplotlib.pyplot as plt\n",
        "from torch import nn,optim\n",
        "from mpl_toolkits.mplot3d import Axes3D\n",
        "from torch.utils.data import Dataset, DataLoader\n",
        "import torchvision.transforms as transforms"
      ],
      "execution_count": 1
    },
    {
      "cell_type": "markdown",
      "metadata": {
        "id": "f1915fae-4d90-4926-a838-3c1b7305e4b9"
      },
      "source": [
        "## Data"
      ]
    },
    {
      "cell_type": "code",
      "metadata": {
        "id": "992b17aa-9d6c-4112-8c2b-97e179df3a52"
      },
      "outputs": [],
      "source": [
        "from torch.utils.data import Dataset, DataLoader\n",
        "class Data(Dataset):\n",
        "    def __init__(self):\n",
        "            self.x=torch.zeros(20,2)\n",
        "            self.x[:,0]=torch.arange(-1,1,0.1)\n",
        "            self.x[:,1]=torch.arange(-1,1,0.1)\n",
        "            self.w=torch.tensor([ [1.0,-1.0],[1.0,3.0]])\n",
        "            self.b=torch.tensor([[1.0,-1.0]])\n",
        "            self.f=torch.mm(self.x,self.w)+self.b\n",
        "            self.y=self.f+0.001*torch.randn((self.x.shape[0],1))\n",
        "            self.len=self.x.shape[0]\n",
        "\n",
        "    def __getitem__(self,index):\n",
        "        return self.x[index],self.y[index]\n",
        "\n",
        "    def __len__(self):\n",
        "        return self.len\n",
        "\n",
        "data_set=Data()"
      ],
      "execution_count": 3
    },
    {
      "cell_type": "markdown",
      "metadata": {
        "id": "496a0ac7-ce28-4e51-8031-ccb518f43d7e"
      },
      "source": [
        "## Model, Optimizer, and Cost Function"
      ]
    },
    {
      "cell_type": "code",
      "metadata": {
        "id": "170ea158-3942-4bb4-a51f-f481d322dfef"
      },
      "outputs": [],
      "source": [
        "class linear_regression(nn.Module):\n",
        "    def __init__(self,input_size,output_size):\n",
        "        super(linear_regression,self).__init__()\n",
        "        self.linear=nn.Linear(input_size,output_size)\n",
        "    def forward(self,x):\n",
        "        yhat=self.linear(x)\n",
        "        return yhat\n",
        "\n",
        "model=linear_regression(2,2)\n",
        "optimizer = optim.SGD(model.parameters(), lr = 0.1)\n",
        "criterion = nn.MSELoss()\n",
        "train_loader=DataLoader(dataset=data_set,batch_size=5)"
      ],
      "execution_count": 7
    },
    {
      "cell_type": "markdown",
      "metadata": {
        "id": "f1b44672-2b5e-474d-a56a-26a838230e58"
      },
      "source": [
        "##Train the Model via Mini-Batch Gradient Descent"
      ]
    },
    {
      "cell_type": "code",
      "metadata": {
        "colab": {
          "base_uri": "https://localhost:8080/",
          "height": 449
        },
        "id": "92650c38-9e81-4481-b5a5-ec749bc96758",
        "outputId": "c23380e6-9796-4cf5-92a4-8c8dd3adbe4d"
      },
      "outputs": [
        {
          "output_type": "display_data",
          "data": {
            "text/plain": [
              "<Figure size 640x480 with 1 Axes>"
            ],
            "image/png": "[encoded data removed]"
          },
          "metadata": {}
        }
      ],
      "source": [
        "LOSS=[]\n",
        "epochs=100\n",
        "\n",
        "for epoch in range(epochs):\n",
        "    for x,y in train_loader:\n",
        "        yhat=model(x)\n",
        "        loss=criterion(yhat,y)\n",
        "        LOSS.append(loss.item())\n",
        "        optimizer.zero_grad()\n",
        "        loss.backward()\n",
        "        optimizer.step()\n",
        "\n",
        "plt.plot(LOSS)\n",
        "plt.xlabel(\"iterations \")\n",
        "plt.ylabel(\"Cost/total loss \")\n",
        "plt.show()"
      ],
      "execution_count": 8
    }
  ],
  "metadata": {
    "kernelspec": {
      "display_name": "Python",
      "language": "python",
      "name": "conda-env-python-py"
    },
    "language_info": {
      "name": "python",
      "version": "3.7.12",
      "mimetype": "text/x-python",
      "codemirror_mode": {
        "name": "ipython",
        "version": 3
      },
      "pygments_lexer": "ipython3",
      "nbconvert_exporter": "python",
      "file_extension": ".py"
    },
    "prev_pub_hash": "59d66193177d4cba5ad255078e24a8eba4e77b343b0d99d7806800445ea72dbb",
    "colab": {
      "provenance": [],
      "include_colab_link": true
    }
  },
  "nbformat": 4,
  "nbformat_minor": 0
}