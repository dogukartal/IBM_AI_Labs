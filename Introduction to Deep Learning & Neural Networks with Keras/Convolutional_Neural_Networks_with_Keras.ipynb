{
  "cells": [
    {
      "cell_type": "markdown",
      "metadata": {
        "id": "view-in-github",
        "colab_type": "text"
      },
      "source": [
        "<a href=\"https://colab.research.google.com/github/dogukartal/IBM_AI_Labs/blob/main/Introduction%20to%20Deep%20Learning%20%26%20Neural%20Networks%20with%20Keras/Convolutional_Neural_Networks_with_Keras.ipynb\" target=\"_parent\"><img src=\"https://colab.research.google.com/assets/colab-badge.svg\" alt=\"Open In Colab\"/></a>"
      ]
    },
    {
      "cell_type": "code",
      "metadata": {
        "id": "caf13643-fbbb-4805-bca7-e7058b620f23"
      },
      "outputs": [],
      "source": [
        "import keras\n",
        "from keras.models import Sequential\n",
        "from keras.layers import Dense\n",
        "from keras.utils import to_categorical"
      ],
      "execution_count": 1
    },
    {
      "cell_type": "code",
      "metadata": {
        "id": "0b926053-ed83-4419-9df6-bbafcfc7f2e2",
        "colab": {
          "base_uri": "https://localhost:8080/"
        },
        "outputId": "834a2b7c-a6fd-4eb8-f874-e39b3c432e89"
      },
      "outputs": [
        {
          "output_type": "stream",
          "name": "stdout",
          "text": [
            "Downloading data from https://storage.googleapis.com/tensorflow/tf-keras-datasets/mnist.npz\n",
            "\u001b[1m11490434/11490434\u001b[0m \u001b[32m━━━━━━━━━━━━━━━━━━━━\u001b[0m\u001b[37m\u001b[0m \u001b[1m0s\u001b[0m 0us/step\n"
          ]
        }
      ],
      "source": [
        "from keras.layers import Conv2D, MaxPooling2D, Flatten\n",
        "from keras.datasets import mnist\n",
        "\n",
        "(X_train, y_train), (X_test, y_test) = mnist.load_data()\n",
        "\n",
        "X_train = X_train.reshape(X_train.shape[0], 28, 28, 1).astype('float32')\n",
        "X_test = X_test.reshape(X_test.shape[0], 28, 28, 1).astype('float32')"
      ],
      "execution_count": 2
    },
    {
      "cell_type": "code",
      "metadata": {
        "id": "8cd56d94-762f-4a2b-8116-6f04313c5228"
      },
      "outputs": [],
      "source": [
        "X_train = X_train / 255 # normalize training data\n",
        "X_test = X_test / 255 # normalize test data"
      ],
      "execution_count": 3
    },
    {
      "cell_type": "code",
      "metadata": {
        "id": "3a368493-3d57-47f8-a735-7807ba675e3d"
      },
      "outputs": [],
      "source": [
        "y_train = to_categorical(y_train)\n",
        "y_test = to_categorical(y_test)\n",
        "\n",
        "num_classes = y_test.shape[1] # number of categories"
      ],
      "execution_count": 4
    },
    {
      "cell_type": "code",
      "metadata": {
        "id": "762b15ce-04b4-4b52-91f4-5531b095adc2"
      },
      "outputs": [],
      "source": [
        "def convolutional_model():\n",
        "    model = Sequential()\n",
        "    model.add(Conv2D(16, (5, 5), strides=(1, 1), activation='relu', input_shape=(28, 28, 1)))\n",
        "    model.add(MaxPooling2D(pool_size=(2, 2), strides=(2, 2)))\n",
        "\n",
        "    model.add(Flatten())\n",
        "    model.add(Dense(100, activation='relu'))\n",
        "    model.add(Dense(num_classes, activation='softmax'))\n",
        "\n",
        "    model.compile(optimizer='adam', loss='categorical_crossentropy',  metrics=['accuracy'])\n",
        "    return model"
      ],
      "execution_count": 5
    },
    {
      "cell_type": "code",
      "metadata": {
        "id": "7bc53a31-62d6-4bbc-b622-2c22b7e45c9f",
        "colab": {
          "base_uri": "https://localhost:8080/"
        },
        "outputId": "4edaa1ee-86d0-4b5e-841b-c697f6434fbb"
      },
      "outputs": [
        {
          "output_type": "stream",
          "name": "stderr",
          "text": [
            "/usr/local/lib/python3.10/dist-packages/keras/src/layers/convolutional/base_conv.py:107: UserWarning: Do not pass an `input_shape`/`input_dim` argument to a layer. When using Sequential models, prefer using an `Input(shape)` object as the first layer in the model instead.\n",
            "  super().__init__(activity_regularizer=activity_regularizer, **kwargs)\n"
          ]
        },
        {
          "output_type": "stream",
          "name": "stdout",
          "text": [
            "Epoch 1/10\n",
            "300/300 - 6s - 20ms/step - accuracy: 0.9216 - loss: 0.2803 - val_accuracy: 0.9713 - val_loss: 0.0967\n",
            "Epoch 2/10\n",
            "300/300 - 1s - 3ms/step - accuracy: 0.9743 - loss: 0.0891 - val_accuracy: 0.9808 - val_loss: 0.0660\n",
            "Epoch 3/10\n",
            "300/300 - 1s - 4ms/step - accuracy: 0.9818 - loss: 0.0616 - val_accuracy: 0.9835 - val_loss: 0.0543\n",
            "Epoch 4/10\n",
            "300/300 - 1s - 3ms/step - accuracy: 0.9852 - loss: 0.0490 - val_accuracy: 0.9840 - val_loss: 0.0468\n",
            "Epoch 5/10\n",
            "300/300 - 1s - 4ms/step - accuracy: 0.9883 - loss: 0.0390 - val_accuracy: 0.9853 - val_loss: 0.0421\n",
            "Epoch 6/10\n",
            "300/300 - 1s - 2ms/step - accuracy: 0.9899 - loss: 0.0324 - val_accuracy: 0.9864 - val_loss: 0.0397\n",
            "Epoch 7/10\n",
            "300/300 - 1s - 4ms/step - accuracy: 0.9916 - loss: 0.0273 - val_accuracy: 0.9869 - val_loss: 0.0402\n",
            "Epoch 8/10\n",
            "300/300 - 1s - 3ms/step - accuracy: 0.9937 - loss: 0.0217 - val_accuracy: 0.9857 - val_loss: 0.0413\n",
            "Epoch 9/10\n",
            "300/300 - 1s - 3ms/step - accuracy: 0.9940 - loss: 0.0191 - val_accuracy: 0.9882 - val_loss: 0.0368\n",
            "Epoch 10/10\n",
            "300/300 - 1s - 3ms/step - accuracy: 0.9952 - loss: 0.0158 - val_accuracy: 0.9866 - val_loss: 0.0412\n",
            "Accuracy: 0.9865999817848206 \n",
            " Error: 1.3400018215179443\n"
          ]
        }
      ],
      "source": [
        "# build the model\n",
        "model = convolutional_model()\n",
        "\n",
        "# fit the model\n",
        "model.fit(X_train, y_train, validation_data=(X_test, y_test), epochs=10, batch_size=200, verbose=2)\n",
        "\n",
        "# evaluate the model\n",
        "scores = model.evaluate(X_test, y_test, verbose=0)\n",
        "print(\"Accuracy: {} \\n Error: {}\".format(scores[1], 100-scores[1]*100))"
      ],
      "execution_count": 6
    },
    {
      "cell_type": "code",
      "metadata": {
        "id": "e4b3fb97-94a5-421b-80c1-8c4fe4134eb2"
      },
      "outputs": [],
      "source": [
        "def convolutional_model():\n",
        "    model = Sequential()\n",
        "    model.add(Conv2D(16, (5, 5), activation='relu', input_shape=(28, 28, 1)))\n",
        "    model.add(MaxPooling2D(pool_size=(2, 2), strides=(2, 2)))\n",
        "\n",
        "    model.add(Conv2D(8, (2, 2), activation='relu'))\n",
        "    model.add(MaxPooling2D(pool_size=(2, 2), strides=(2, 2)))\n",
        "\n",
        "    model.add(Flatten())\n",
        "    model.add(Dense(100, activation='relu'))\n",
        "    model.add(Dense(num_classes, activation='softmax'))\n",
        "\n",
        "    model.compile(optimizer='adam', loss='categorical_crossentropy',  metrics=['accuracy'])\n",
        "    return model"
      ],
      "execution_count": 7
    },
    {
      "cell_type": "code",
      "metadata": {
        "id": "1c9020f2-a385-4ba5-9923-7fa42be5dd32",
        "colab": {
          "base_uri": "https://localhost:8080/"
        },
        "outputId": "23515833-fb6b-412b-9e1d-1079b7951540"
      },
      "outputs": [
        {
          "output_type": "stream",
          "name": "stdout",
          "text": [
            "Epoch 1/10\n",
            "300/300 - 4s - 13ms/step - accuracy: 0.8623 - loss: 0.4711 - val_accuracy: 0.9564 - val_loss: 0.1414\n",
            "Epoch 2/10\n",
            "300/300 - 3s - 10ms/step - accuracy: 0.9641 - loss: 0.1212 - val_accuracy: 0.9743 - val_loss: 0.0850\n",
            "Epoch 3/10\n",
            "300/300 - 1s - 3ms/step - accuracy: 0.9734 - loss: 0.0871 - val_accuracy: 0.9803 - val_loss: 0.0659\n",
            "Epoch 4/10\n",
            "300/300 - 1s - 2ms/step - accuracy: 0.9784 - loss: 0.0714 - val_accuracy: 0.9772 - val_loss: 0.0684\n",
            "Epoch 5/10\n",
            "300/300 - 1s - 4ms/step - accuracy: 0.9815 - loss: 0.0608 - val_accuracy: 0.9821 - val_loss: 0.0556\n",
            "Epoch 6/10\n",
            "300/300 - 1s - 2ms/step - accuracy: 0.9838 - loss: 0.0532 - val_accuracy: 0.9823 - val_loss: 0.0556\n",
            "Epoch 7/10\n",
            "300/300 - 1s - 3ms/step - accuracy: 0.9853 - loss: 0.0468 - val_accuracy: 0.9838 - val_loss: 0.0462\n",
            "Epoch 8/10\n",
            "300/300 - 1s - 4ms/step - accuracy: 0.9868 - loss: 0.0435 - val_accuracy: 0.9864 - val_loss: 0.0431\n",
            "Epoch 9/10\n",
            "300/300 - 1s - 4ms/step - accuracy: 0.9885 - loss: 0.0380 - val_accuracy: 0.9859 - val_loss: 0.0438\n",
            "Epoch 10/10\n",
            "300/300 - 1s - 3ms/step - accuracy: 0.9887 - loss: 0.0355 - val_accuracy: 0.9891 - val_loss: 0.0346\n",
            "Accuracy: 0.9890999794006348 \n",
            " Error: 1.0900020599365234\n"
          ]
        }
      ],
      "source": [
        "# build the model\n",
        "model = convolutional_model()\n",
        "\n",
        "# fit the model\n",
        "model.fit(X_train, y_train, validation_data=(X_test, y_test), epochs=10, batch_size=200, verbose=2)\n",
        "\n",
        "# evaluate the model\n",
        "scores = model.evaluate(X_test, y_test, verbose=0)\n",
        "print(\"Accuracy: {} \\n Error: {}\".format(scores[1], 100-scores[1]*100))"
      ],
      "execution_count": 8
    }
  ],
  "metadata": {
    "kernelspec": {
      "display_name": "Python 3",
      "name": "python3"
    },
    "language_info": {
      "name": "python"
    },
    "colab": {
      "provenance": [],
      "gpuType": "T4",
      "include_colab_link": true
    },
    "accelerator": "GPU"
  },
  "nbformat": 4,
  "nbformat_minor": 0
}