{
  "cells": [
    {
      "cell_type": "markdown",
      "metadata": {
        "id": "view-in-github",
        "colab_type": "text"
      },
      "source": [
        "<a href=\"https://colab.research.google.com/github/dogukartal/IBM_AI_Labs/blob/main/Introduction%20to%20Neural%20Networks%20and%20PyTorch/Tensor%20and%20Datasets/2DTensors.ipynb\" target=\"_parent\"><img src=\"https://colab.research.google.com/assets/colab-badge.svg\" alt=\"Open In Colab\"/></a>"
      ]
    },
    {
      "cell_type": "code",
      "metadata": {
        "id": "adfbd797-eb92-4b6f-b5d9-1b6e639805a0"
      },
      "outputs": [],
      "source": [
        "import numpy as np\n",
        "import matplotlib.pyplot as plt\n",
        "import torch\n",
        "import pandas as pd"
      ],
      "execution_count": 2
    },
    {
      "cell_type": "markdown",
      "metadata": {
        "id": "561a6393-4970-457e-b5bc-6de9ce88095c"
      },
      "source": [
        "## Types and Shape\n",
        "---"
      ]
    },
    {
      "cell_type": "code",
      "metadata": {
        "id": "280a0ac4-5cf9-4b42-9c9e-d77549411864",
        "colab": {
          "base_uri": "https://localhost:8080/"
        },
        "outputId": "54a3ac71-075e-454c-eddd-92b741bbf7a6"
      },
      "outputs": [
        {
          "output_type": "stream",
          "name": "stdout",
          "text": [
            "The New 2D Tensor:  tensor([[11, 12, 13],\n",
            "        [21, 22, 23],\n",
            "        [31, 32, 33]])\n"
          ]
        }
      ],
      "source": [
        "# Convert 2D List to 2D Tensor\n",
        "twoD_list = [[11, 12, 13], [21, 22, 23], [31, 32, 33]]\n",
        "twoD_tensor = torch.tensor(twoD_list)\n",
        "print(\"The New 2D Tensor: \", twoD_tensor)"
      ],
      "execution_count": 3
    },
    {
      "cell_type": "code",
      "metadata": {
        "id": "a25944e7-a392-44c5-aaff-32669295e151",
        "colab": {
          "base_uri": "https://localhost:8080/"
        },
        "outputId": "e067d027-f596-41f1-b46c-cd73e2b3b76a"
      },
      "outputs": [
        {
          "output_type": "stream",
          "name": "stdout",
          "text": [
            "The dimension of twoD_tensor:  2\n",
            "The shape of twoD_tensor:  torch.Size([3, 3])\n",
            "The shape of twoD_tensor:  torch.Size([3, 3])\n",
            "The number of elements in twoD_tensor:  9\n"
          ]
        }
      ],
      "source": [
        "print(\"The dimension of twoD_tensor: \", twoD_tensor.ndimension())\n",
        "print(\"The shape of twoD_tensor: \", twoD_tensor.shape)\n",
        "print(\"The shape of twoD_tensor: \", twoD_tensor.size())\n",
        "print(\"The number of elements in twoD_tensor: \", twoD_tensor.numel())"
      ],
      "execution_count": 4
    },
    {
      "cell_type": "code",
      "metadata": {
        "id": "0d355d15-f5d5-4972-aa2e-63a81cebf94b",
        "colab": {
          "base_uri": "https://localhost:8080/"
        },
        "outputId": "8a52afa6-98e1-462c-8595-bd1f50c50a54"
      },
      "outputs": [
        {
          "output_type": "stream",
          "name": "stdout",
          "text": [
            "The numpy array after converting:  [[11 12 13]\n",
            " [21 22 23]\n",
            " [31 32 33]]\n",
            "Type after converting:  int64\n",
            " \n",
            "The tensor after converting: tensor([[11, 12, 13],\n",
            "        [21, 22, 23],\n",
            "        [31, 32, 33]])\n",
            "Type after converting:  torch.int64\n"
          ]
        }
      ],
      "source": [
        "# Convert tensor to numpy array; Convert numpy array to tensor\n",
        "twoD_numpy = twoD_tensor.numpy()\n",
        "print(\"The numpy array after converting: \", twoD_numpy)\n",
        "print(\"Type after converting: \", twoD_numpy.dtype)\n",
        "print(\" \")\n",
        "new_twoD_tensor = torch.from_numpy(twoD_numpy)\n",
        "print(\"The tensor after converting:\", new_twoD_tensor)\n",
        "print(\"Type after converting: \", new_twoD_tensor.dtype)"
      ],
      "execution_count": 6
    },
    {
      "cell_type": "code",
      "metadata": {
        "id": "482ab8c8-374a-43c2-88a5-9ec787683f19",
        "colab": {
          "base_uri": "https://localhost:8080/"
        },
        "outputId": "eb5ae13c-35e6-4452-f530-9bf463171050"
      },
      "outputs": [
        {
          "output_type": "stream",
          "name": "stdout",
          "text": [
            "Pandas Dataframe to numpy:  [[ 11  12]\n",
            " [ 21  22]\n",
            " [ 31 312]]\n",
            "Type BEFORE converting:  int64\n",
            " \n",
            "Tensor AFTER converting:  tensor([[ 11,  12],\n",
            "        [ 21,  22],\n",
            "        [ 31, 312]])\n",
            "Type AFTER converting:  torch.int64\n"
          ]
        }
      ],
      "source": [
        "# Try to convert the Panda Dataframe to tensor\n",
        "\n",
        "df = pd.DataFrame({'a':[11,21,31],'b':[12,22,312]})\n",
        "print(\"Pandas Dataframe to numpy: \", df.values)\n",
        "print(\"Type BEFORE converting: \", df.values.dtype)\n",
        "print(\" \")\n",
        "new_tensor = torch.from_numpy(df.values)\n",
        "print(\"Tensor AFTER converting: \", new_tensor)\n",
        "print(\"Type AFTER converting: \", new_tensor.dtype)"
      ],
      "execution_count": 7
    },
    {
      "cell_type": "code",
      "metadata": {
        "id": "11a11a63-8c26-4639-946f-f6cf30e6d826",
        "colab": {
          "base_uri": "https://localhost:8080/"
        },
        "outputId": "32b3ae9f-3df9-4827-d886-de94804d36d8"
      },
      "outputs": [
        {
          "output_type": "stream",
          "name": "stdout",
          "text": [
            "Tensor:  tensor([[11,  3],\n",
            "        [33,  3],\n",
            "        [22,  2]])\n"
          ]
        }
      ],
      "source": [
        "df = pd.DataFrame({'A':[11, 33, 22],'B':[3, 3, 2]})\n",
        "converted_tensor = torch.tensor(df.values)\n",
        "print (\"Tensor: \", converted_tensor)"
      ],
      "execution_count": 8
    },
    {
      "cell_type": "markdown",
      "metadata": {
        "id": "d386b64c-9fc5-4d39-b0f7-d04e6748bd44"
      },
      "source": [
        "## Indexing and Slicing\n",
        "---"
      ]
    },
    {
      "cell_type": "markdown",
      "metadata": {
        "id": "0328ce61-b79a-4f8d-8617-76f75648b50f"
      },
      "source": [
        "<img src=\"https://s3-api.us-geo.objectstorage.softlayer.net/cf-courses-data/CognitiveClass/DL0110EN/notebook_images%20/chapter%201/1.2index1.png\" width=\"500\" alt=\"Matrix Structure Introduce\">\n"
      ]
    },
    {
      "cell_type": "markdown",
      "metadata": {
        "id": "3281bd4f-d98e-4f43-8fa7-f286220af501"
      },
      "source": [
        "<img src=\"https://s3-api.us-geo.objectstorage.softlayer.net/cf-courses-data/CognitiveClass/DL0110EN/notebook_images%20/chapter%201/1.2index.png\" width=\"500\" alt=\"Example of Matrix Index\">\n"
      ]
    },
    {
      "cell_type": "code",
      "metadata": {
        "id": "2cf1dc2f-4a2a-4c5a-909d-b6ffb92057af",
        "colab": {
          "base_uri": "https://localhost:8080/"
        },
        "outputId": "27ec62c9-7ed8-41cb-c62d-8665aa1ce08b"
      },
      "outputs": [
        {
          "output_type": "stream",
          "name": "stdout",
          "text": [
            "What is the value on 2nd-row 3rd-column?  23\n",
            "What is the value on 2nd-row 3rd-column?  23\n"
          ]
        }
      ],
      "source": [
        "tensor_example = torch.tensor([[11, 12, 13], [21, 22, 23], [31, 32, 33]])\n",
        "print(\"What is the value on 2nd-row 3rd-column? \", tensor_example[1, 2].item())\n",
        "print(\"What is the value on 2nd-row 3rd-column? \", tensor_example[1][2].item())"
      ],
      "execution_count": 10
    },
    {
      "cell_type": "markdown",
      "metadata": {
        "id": "52bbe167-7d4a-4c99-80ed-22c496945088"
      },
      "source": [
        "Consider the elements shown in the following figure:\n"
      ]
    },
    {
      "cell_type": "markdown",
      "metadata": {
        "id": "ae03bf1a-ef8c-44ba-99b8-be55769ac0cd"
      },
      "source": [
        "<img src=\"https://s3-api.us-geo.objectstorage.softlayer.net/cf-courses-data/CognitiveClass/DL0110EN/notebook_images%20/chapter%201/1.2_index2.png\" width=\"500\" alt=\"Example of Matrix Index\">\n"
      ]
    },
    {
      "cell_type": "code",
      "metadata": {
        "id": "aca665a7-2f39-40ed-8842-4ae98f76382b",
        "colab": {
          "base_uri": "https://localhost:8080/"
        },
        "outputId": "2bdb6208-5f6c-46dd-db64-54b0579d90e7"
      },
      "outputs": [
        {
          "output_type": "execute_result",
          "data": {
            "text/plain": [
              "tensor(11)"
            ]
          },
          "metadata": {},
          "execution_count": 11
        }
      ],
      "source": [
        "tensor_example[0][0]"
      ],
      "execution_count": 11
    },
    {
      "cell_type": "markdown",
      "metadata": {
        "id": "230987b9-b170-4d18-8482-87fd9020e0d5"
      },
      "source": [
        "<img src=\"https://s3-api.us-geo.objectstorage.softlayer.net/cf-courses-data/CognitiveClass/DL0110EN/notebook_images%20/chapter%201/1.2sliceing.png\" width=\"500\" alt=\"Example of Matrix Index and Slicing\">\n"
      ]
    },
    {
      "cell_type": "code",
      "metadata": {
        "id": "6ebdf50d-9147-437f-91e3-7abfb107ac7d",
        "colab": {
          "base_uri": "https://localhost:8080/"
        },
        "outputId": "7c9530c7-e308-4942-99d6-dda6281f8986"
      },
      "outputs": [
        {
          "output_type": "stream",
          "name": "stdout",
          "text": [
            "What is the value on 1st-row first two columns?  tensor([11, 12])\n",
            "What is the value on 1st-row first two columns?  tensor([11, 12])\n"
          ]
        }
      ],
      "source": [
        "tensor_example = torch.tensor([[11, 12, 13], [21, 22, 23], [31, 32, 33]])\n",
        "print(\"What is the value on 1st-row first two columns? \", tensor_example[0, 0:2]) # .item() cannot be used for vectors\n",
        "print(\"What is the value on 1st-row first two columns? \", tensor_example[0][0:2]) # .item() cannot be used for vectors"
      ],
      "execution_count": 14
    },
    {
      "cell_type": "markdown",
      "metadata": {
        "id": "69c94237-a9bc-4fb8-b792-9acdc93837a6"
      },
      "source": [
        "<img src=\"https://s3-api.us-geo.objectstorage.softlayer.net/cf-courses-data/CognitiveClass/DL0110EN/notebook_images%20/chapter%201/1.2slicing2.png\" width=\"500\" alt=\"Example of Matrix Index and Slicing\">\n"
      ]
    },
    {
      "cell_type": "code",
      "metadata": {
        "id": "34af89ff-2953-4859-933b-e62b0fe85d5a",
        "colab": {
          "base_uri": "https://localhost:8080/"
        },
        "outputId": "2184e0d2-a6d3-48ad-b566-949d10087254"
      },
      "outputs": [
        {
          "output_type": "stream",
          "name": "stdout",
          "text": [
            "What is the value on 3rd-column last two rows?  tensor([23, 33])\n"
          ]
        }
      ],
      "source": [
        "tensor_example = torch.tensor([[11, 12, 13], [21, 22, 23], [31, 32, 33]])\n",
        "print(\"What is the value on 3rd-column last two rows? \", tensor_example[1:3, 2])"
      ],
      "execution_count": 15
    },
    {
      "cell_type": "code",
      "metadata": {
        "id": "22ac2660-735c-4dfa-91dc-131091e4b9d0",
        "colab": {
          "base_uri": "https://localhost:8080/"
        },
        "outputId": "b17c80cd-a8f8-4d81-83dc-0751cf33c25c"
      },
      "outputs": [
        {
          "output_type": "stream",
          "name": "stdout",
          "text": [
            "The result:  tensor([[11, 12, 13],\n",
            "        [21,  0, 23],\n",
            "        [31,  0, 33]])\n"
          ]
        }
      ],
      "source": [
        "tensor_ques = torch.tensor([[11, 12, 13], [21, 22, 23], [31, 32, 33]])\n",
        "tensor_ques[1:3, 1] = 0\n",
        "print(\"The result: \", tensor_ques)"
      ],
      "execution_count": 16
    },
    {
      "cell_type": "markdown",
      "metadata": {
        "id": "b4f8c9e3-69ef-4841-b2c3-7fbbcf39f2c3"
      },
      "source": [
        "## Tensor Operations\n",
        "---"
      ]
    },
    {
      "cell_type": "markdown",
      "metadata": {
        "id": "e7ba5312-b371-4065-bfd6-20a456c5c7ea"
      },
      "source": [
        "### Tensor Addition\n"
      ]
    },
    {
      "cell_type": "markdown",
      "metadata": {
        "id": "99312e5b-8f99-41f5-88df-a4da557306c6"
      },
      "source": [
        "<img src=\"https://s3-api.us-geo.objectstorage.softlayer.net/cf-courses-data/CognitiveClass/DL0110EN/notebook_images%20/chapter%201/1.2add.png\" width=\"500\" alt=\"Tensor Addition in 2D\">\n"
      ]
    },
    {
      "cell_type": "code",
      "metadata": {
        "id": "c3b6d6b8-8275-4886-90df-8d3394b2ac29",
        "colab": {
          "base_uri": "https://localhost:8080/"
        },
        "outputId": "8f632880-e215-4449-dba3-dc8c80fafeae"
      },
      "outputs": [
        {
          "output_type": "stream",
          "name": "stdout",
          "text": [
            "The result of X + Y:  tensor([[3, 1],\n",
            "        [1, 3]])\n"
          ]
        }
      ],
      "source": [
        "X = torch.tensor([[1, 0],[0, 1]])\n",
        "Y = torch.tensor([[2, 1],[1, 2]])\n",
        "X_plus_Y = X + Y\n",
        "print(\"The result of X + Y: \", X_plus_Y)"
      ],
      "execution_count": 17
    },
    {
      "cell_type": "markdown",
      "metadata": {
        "id": "bc92dda4-f36b-4c3c-945c-3a9fd65d9f79"
      },
      "source": [
        "### Scalar Multiplication"
      ]
    },
    {
      "cell_type": "markdown",
      "metadata": {
        "id": "0eab468a-eed1-4024-8f51-b92ceb2fe494"
      },
      "source": [
        "<img src=\"https://s3-api.us-geo.objectstorage.softlayer.net/cf-courses-data/CognitiveClass/DL0110EN/notebook_images%20/chapter%201/1.2scaller_mult.png\" width=\"500\" alt=\"The product of tensor and scalar\">\n"
      ]
    },
    {
      "cell_type": "code",
      "metadata": {
        "id": "99b70487-77c1-424b-a6f7-08a3cc5dc2eb",
        "colab": {
          "base_uri": "https://localhost:8080/"
        },
        "outputId": "949925f7-441b-4b94-d034-43edcb3da283"
      },
      "outputs": [
        {
          "output_type": "stream",
          "name": "stdout",
          "text": [
            "The result of 2Y:  tensor([[4, 2],\n",
            "        [2, 4]])\n"
          ]
        }
      ],
      "source": [
        "Y = torch.tensor([[2, 1], [1, 2]])\n",
        "two_Y = 2 * Y\n",
        "print(\"The result of 2Y: \", two_Y)"
      ],
      "execution_count": 18
    },
    {
      "cell_type": "markdown",
      "metadata": {
        "id": "814a851f-e788-4e9a-920f-83f17e338354"
      },
      "source": [
        "###Element-wise Product/Hadamard Product\n"
      ]
    },
    {
      "cell_type": "markdown",
      "metadata": {
        "id": "280b6a7c-edd6-49ce-97fa-9107d60457ac"
      },
      "source": [
        " <a><img src=\"https://s3-api.us-geo.objectstorage.softlayer.net/cf-courses-data/CognitiveClass/DL0110EN/notebook_images%20/chapter%201/1.2tensor_pruduct.png\" width=\"500\" align=\"center\"> </a>\n"
      ]
    },
    {
      "cell_type": "code",
      "metadata": {
        "id": "3fe69ce5-6cd4-4a7d-a6ca-09e65cdefbf0",
        "colab": {
          "base_uri": "https://localhost:8080/"
        },
        "outputId": "56009443-e738-4b63-e56f-8f9ff48ad5eb"
      },
      "outputs": [
        {
          "output_type": "stream",
          "name": "stdout",
          "text": [
            "The result of X * Y:  tensor([[2, 0],\n",
            "        [0, 2]])\n"
          ]
        }
      ],
      "source": [
        "X = torch.tensor([[1, 0], [0, 1]])\n",
        "Y = torch.tensor([[2, 1], [1, 2]])\n",
        "X_times_Y = X * Y\n",
        "print(\"The result of X * Y: \", X_times_Y)"
      ],
      "execution_count": 19
    },
    {
      "cell_type": "markdown",
      "metadata": {
        "id": "436169d0-9f64-4dac-a59c-c092117fdb7a"
      },
      "source": [
        "### Matrix Multiplication"
      ]
    },
    {
      "cell_type": "code",
      "metadata": {
        "id": "4849cb55-d0bf-4243-aad2-6a7c3844df7b",
        "colab": {
          "base_uri": "https://localhost:8080/"
        },
        "outputId": "df0f9f1a-d3d8-4f94-9839-3e5b2b746304"
      },
      "outputs": [
        {
          "output_type": "stream",
          "name": "stdout",
          "text": [
            "The result of A * B:  tensor([[0, 2],\n",
            "        [0, 2]])\n"
          ]
        }
      ],
      "source": [
        "A = torch.tensor([[0, 1, 1], [1, 0, 1]])\n",
        "B = torch.tensor([[1, 1], [1, 1], [-1, 1]])\n",
        "A_times_B = torch.mm(A,B)\n",
        "print(\"The result of A * B: \", A_times_B)"
      ],
      "execution_count": 20
    }
  ],
  "metadata": {
    "kernelspec": {
      "display_name": "Python 3",
      "name": "python3"
    },
    "language_info": {
      "name": "python"
    },
    "colab": {
      "provenance": [],
      "include_colab_link": true
    }
  },
  "nbformat": 4,
  "nbformat_minor": 0
}