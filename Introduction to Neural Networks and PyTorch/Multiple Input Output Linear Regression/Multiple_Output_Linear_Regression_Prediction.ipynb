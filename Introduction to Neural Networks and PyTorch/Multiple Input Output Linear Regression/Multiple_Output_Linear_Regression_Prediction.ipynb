{
  "cells": [
    {
      "cell_type": "markdown",
      "metadata": {
        "id": "view-in-github",
        "colab_type": "text"
      },
      "source": [
        "<a href=\"https://colab.research.google.com/github/dogukartal/IBM_AI_Labs/blob/main/Introduction%20to%20Neural%20Networks%20and%20PyTorch/Multiple%20Input%20Output%20Linear%20Regression/Multiple_Linear_Regression_Prediction.ipynb\" target=\"_parent\"><img src=\"https://colab.research.google.com/assets/colab-badge.svg\" alt=\"Open In Colab\"/></a>"
      ]
    },
    {
      "cell_type": "markdown",
      "metadata": {
        "id": "a6f478aa-1de5-482b-b14b-19a077566ddb"
      },
      "source": [
        "#Multiple Linear Regression\n",
        "---"
      ]
    },
    {
      "cell_type": "code",
      "metadata": {
        "id": "7e8ad092-95d3-411b-a9d2-a6e0e9fe0879"
      },
      "outputs": [],
      "source": [
        "from torch import nn\n",
        "import torch\n",
        "\n",
        "def forward(x):\n",
        "    yhat = torch.mm(x, w) + b # Matrix multiplication\n",
        "    return yhat\n",
        "\n",
        "w = torch.tensor([[2.0],\n",
        "                  [3.0]], requires_grad=True)\n",
        "b = torch.tensor([[1.0]], requires_grad=True)"
      ],
      "execution_count": 4
    },
    {
      "cell_type": "markdown",
      "metadata": {
        "id": "641aca17-5dbc-427f-9796-2901ba4d539b"
      },
      "source": [
        "<img src=\"https://s3-api.us-geo.objectstorage.softlayer.net/cf-courses-data/CognitiveClass/DL0110EN/notebook_images%20/chapter2/2.6.1_matrix_eq.png\" width=\"600\" alt=\"Matrix Linear Regression\">\n"
      ]
    },
    {
      "cell_type": "code",
      "metadata": {
        "colab": {
          "base_uri": "https://localhost:8080/"
        },
        "id": "5641112c-c005-401f-9cbe-f6860abd2d4f",
        "outputId": "58926713-f22c-4039-ee96-1ebd6c6da408"
      },
      "outputs": [
        {
          "output_type": "stream",
          "name": "stdout",
          "text": [
            "The result:  tensor([[9.]], grad_fn=<AddBackward0>)\n"
          ]
        }
      ],
      "source": [
        "# Calculate yhat\n",
        "x = torch.tensor([[1.0, 2.0]])\n",
        "yhat = forward(x)\n",
        "print(\"The result: \", yhat)"
      ],
      "execution_count": 5
    },
    {
      "cell_type": "markdown",
      "metadata": {
        "id": "8a8f6e03-9561-47f6-afcc-ab8390d06bc8"
      },
      "source": [
        "<img src=\"https://cf-courses-data.s3.us.cloud-object-storage.appdomain.cloud/JBkvPoMCCa-PDXCF_4aQfQ/image%20-1-.png\" width=\"300\" alt=\"Linear Regression Matrix Sample One\">\n"
      ]
    },
    {
      "cell_type": "code",
      "metadata": {
        "colab": {
          "base_uri": "https://localhost:8080/"
        },
        "id": "68be2638-78db-47f3-9531-743ffef1f451",
        "outputId": "ab084f8b-cca2-42b4-c1fa-9b34c9ddf63f"
      },
      "outputs": [
        {
          "output_type": "stream",
          "name": "stdout",
          "text": [
            "The result:  tensor([[ 6.],\n",
            "        [ 9.],\n",
            "        [12.]], grad_fn=<AddBackward0>)\n"
          ]
        }
      ],
      "source": [
        "X = torch.tensor([[1.0, 1.0], [1.0, 2.0], [1.0, 3.0]])\n",
        "yhat = forward(X)\n",
        "print(\"The result: \", yhat)"
      ],
      "execution_count": 6
    },
    {
      "cell_type": "markdown",
      "metadata": {
        "id": "cde88b03-2c41-4d72-a825-81bdc4ca8dcb"
      },
      "source": [
        "## Class Linear\n"
      ]
    },
    {
      "cell_type": "code",
      "metadata": {
        "colab": {
          "base_uri": "https://localhost:8080/"
        },
        "id": "8c84170c-b80a-413d-8ce6-706e60b63222",
        "outputId": "e9423d43-a7ba-4bc7-8fc7-24417fe2c69c"
      },
      "outputs": [
        {
          "output_type": "stream",
          "name": "stdout",
          "text": [
            "The result:  tensor([[0.8231]], grad_fn=<AddmmBackward0>)\n",
            "The result:  tensor([[0.4249],\n",
            "        [0.8231],\n",
            "        [1.2213]], grad_fn=<AddmmBackward0>)\n"
          ]
        }
      ],
      "source": [
        "model = nn.Linear(2, 1)\n",
        "yhat = model(x)\n",
        "print(\"The result: \", yhat)\n",
        "yhat = model(X)\n",
        "print(\"The result: \", yhat)"
      ],
      "execution_count": 7
    },
    {
      "cell_type": "markdown",
      "metadata": {
        "id": "cf55b6fa-9638-42c6-abbb-8aa779d4ffa8"
      },
      "source": [
        "## Build Custom Modules\n"
      ]
    },
    {
      "cell_type": "code",
      "metadata": {
        "colab": {
          "base_uri": "https://localhost:8080/"
        },
        "id": "a34383a9-f439-464a-8a14-c15b709afde9",
        "outputId": "4d3f7e07-36c1-4526-e5f5-2df44dd8d24e"
      },
      "outputs": [
        {
          "output_type": "stream",
          "name": "stdout",
          "text": [
            "The parameters:  [Parameter containing:\n",
            "tensor([[0.2410, 0.0346]], requires_grad=True), Parameter containing:\n",
            "tensor([-0.2528], requires_grad=True)]\n",
            "The parameters:  OrderedDict([('linear.weight', tensor([[0.2410, 0.0346]])), ('linear.bias', tensor([-0.2528]))])\n"
          ]
        }
      ],
      "source": [
        "class linear_regression(nn.Module):\n",
        "    def __init__(self, input_size, output_size):\n",
        "        super(linear_regression, self).__init__()\n",
        "        self.linear = nn.Linear(input_size, output_size)\n",
        "\n",
        "    def forward(self, x):\n",
        "        yhat = self.linear(x)\n",
        "        return yhat\n",
        "\n",
        "model = linear_regression(2, 1)\n",
        "\n",
        "print(\"The parameters: \", list(model.parameters()))\n",
        "\n",
        "print(\"The parameters: \", model.state_dict())"
      ],
      "execution_count": 9
    },
    {
      "cell_type": "code",
      "metadata": {
        "colab": {
          "base_uri": "https://localhost:8080/"
        },
        "id": "a8164786-4606-4d3a-ae6b-e650097a5ae2",
        "outputId": "e1b29af9-8a6b-4a31-e15c-aca7f67731e2"
      },
      "outputs": [
        {
          "output_type": "stream",
          "name": "stdout",
          "text": [
            "The result:  tensor([[0.0573]], grad_fn=<AddmmBackward0>)\n"
          ]
        }
      ],
      "source": [
        "yhat = model(x)\n",
        "print(\"The result: \", yhat)"
      ],
      "execution_count": 10
    },
    {
      "cell_type": "code",
      "metadata": {
        "colab": {
          "base_uri": "https://localhost:8080/"
        },
        "id": "776965e3-4e77-4b86-b7d0-e83020c4607c",
        "outputId": "b4fa16ed-e0d3-4ce2-cc98-77034f10ff77"
      },
      "outputs": [
        {
          "output_type": "stream",
          "name": "stdout",
          "text": [
            "The result:  tensor([[0.0227],\n",
            "        [0.0573],\n",
            "        [0.0918]], grad_fn=<AddmmBackward0>)\n"
          ]
        }
      ],
      "source": [
        "yhat = model(X)\n",
        "print(\"The result: \", yhat)"
      ],
      "execution_count": 11
    },
    {
      "cell_type": "markdown",
      "metadata": {
        "id": "4e6552cc-38d4-4121-b6f2-78283666bf6c"
      },
      "source": [
        "<img src=\"https://s3-api.us-geo.objectstorage.softlayer.net/cf-courses-data/CognitiveClass/DL0110EN/notebook_images%20/chapter2/2.6.1Multi_sample.png\" width=\"600\" alt=\"Multiple Samples Linear Regression\">\n"
      ]
    }
  ],
  "metadata": {
    "kernelspec": {
      "display_name": "Python",
      "language": "python",
      "name": "conda-env-python-py"
    },
    "language_info": {
      "name": "python",
      "version": "3.7.12",
      "mimetype": "text/x-python",
      "codemirror_mode": {
        "name": "ipython",
        "version": 3
      },
      "pygments_lexer": "ipython3",
      "nbconvert_exporter": "python",
      "file_extension": ".py"
    },
    "prev_pub_hash": "761b336b3eb9f01181c834f1bb3b2bf55ef4bfcec9ec93a47ff6e95a94a2887e",
    "colab": {
      "provenance": [],
      "include_colab_link": true
    }
  },
  "nbformat": 4,
  "nbformat_minor": 0
}
