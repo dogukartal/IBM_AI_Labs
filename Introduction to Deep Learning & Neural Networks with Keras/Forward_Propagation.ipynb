{
  "cells": [
    {
      "cell_type": "markdown",
      "metadata": {
        "id": "view-in-github",
        "colab_type": "text"
      },
      "source": [
        "<a href=\"https://colab.research.google.com/github/dogukartal/IBM_AI_Labs/blob/main/Introduction%20to%20Deep%20Learning%20%26%20Neural%20Networks%20with%20Keras/Forward_Propagation.ipynb\" target=\"_parent\"><img src=\"https://colab.research.google.com/assets/colab-badge.svg\" alt=\"Open In Colab\"/></a>"
      ]
    },
    {
      "cell_type": "markdown",
      "metadata": {
        "id": "f1bdbe36-5bfa-478f-887a-22a48fde3095"
      },
      "source": [
        "<img src=\"http://cocl.us/neural_network_example\" alt=\"Neural Network Example\" width=\"600px\">\n"
      ]
    },
    {
      "cell_type": "code",
      "metadata": {
        "id": "09d7e8c7-e88e-4d21-99bd-e10c21e04605",
        "colab": {
          "base_uri": "https://localhost:8080/"
        },
        "outputId": "623d676b-a58c-4939-e44e-474e4b1ef6ff"
      },
      "outputs": [
        {
          "output_type": "stream",
          "name": "stdout",
          "text": [
            "[0.56 0.5  0.23 0.97 0.55 0.01]\n",
            "[0.45 0.34 0.46]\n"
          ]
        }
      ],
      "source": [
        "import numpy as np\n",
        "\n",
        "weights = np.around(np.random.uniform(size=6), decimals=2) # initialize the weights\n",
        "biases = np.around(np.random.uniform(size=3), decimals=2) # initialize the biases\n",
        "print(weights)\n",
        "print(biases)"
      ],
      "execution_count": 4
    },
    {
      "cell_type": "code",
      "metadata": {
        "id": "c3c532e1-51f0-403b-9a9c-8f8436a51207",
        "colab": {
          "base_uri": "https://localhost:8080/"
        },
        "outputId": "71c64b31-28b2-47af-9a52-498ad782d0d5"
      },
      "outputs": [
        {
          "output_type": "stream",
          "name": "stdout",
          "text": [
            "x1 is 0.5 and x2 is 0.85\n"
          ]
        }
      ],
      "source": [
        "x_1 = 0.5\n",
        "x_2 = 0.85\n",
        "print('x1 is {} and x2 is {}'.format(x_1, x_2))"
      ],
      "execution_count": 5
    },
    {
      "cell_type": "code",
      "metadata": {
        "id": "3d14b5b0-b42b-4790-be60-10470085e840"
      },
      "outputs": [],
      "source": [
        "z_11 = x_1 * weights[0] + x_2 * weights[1] + biases[0]\n",
        "z_12 = x_1 * weights[2] + x_2 * weights[3] + biases[1]"
      ],
      "execution_count": 7
    },
    {
      "cell_type": "code",
      "metadata": {
        "id": "496f819f-2027-4c0a-9712-dfc375559e94",
        "colab": {
          "base_uri": "https://localhost:8080/"
        },
        "outputId": "47b129b9-d2e0-4047-b08d-878569e2304b"
      },
      "outputs": [
        {
          "output_type": "stream",
          "name": "stdout",
          "text": [
            "The weighted sum of the inputs at the node are 1.155 and 1.2795\n"
          ]
        }
      ],
      "source": [
        "print('The weighted sum of the inputs at the node are {} and {}'.format(np.around(z_11, decimals=4), np.around(z_12, decimals=4)))"
      ],
      "execution_count": 8
    },
    {
      "cell_type": "code",
      "metadata": {
        "id": "4210fdcc-2cb7-4698-a2ce-955f0e68f09a",
        "colab": {
          "base_uri": "https://localhost:8080/"
        },
        "outputId": "fa9e8420-6452-4021-b8e0-218be1a2bd38"
      },
      "outputs": [
        {
          "output_type": "stream",
          "name": "stdout",
          "text": [
            "The activation of the nodes are 0.7604 and 0.7824\n"
          ]
        }
      ],
      "source": [
        "a_11 = 1.0 / (1.0 + np.exp(-z_11))\n",
        "a_12 = 1.0 / (1.0 + np.exp(-z_12))\n",
        "print('The activation of the nodes are {} and {}'.format(np.around(a_11, decimals=4), np.around(a_12, decimals=4)))"
      ],
      "execution_count": 9
    },
    {
      "cell_type": "markdown",
      "metadata": {
        "id": "dfb1dd52-833c-484e-b9f0-07a98cdd10df"
      },
      "source": [
        "Now these activations will serve as the inputs to the output layer. So, let's compute the weighted sum of these inputs to the node in the output layer. Assign the value to **z_2**.\n"
      ]
    },
    {
      "cell_type": "code",
      "metadata": {
        "id": "8bca416c-994c-4468-bb09-d9adb452133c",
        "colab": {
          "base_uri": "https://localhost:8080/"
        },
        "outputId": "3aab97fa-762b-4377-a32d-966c38895a4c"
      },
      "outputs": [
        {
          "output_type": "stream",
          "name": "stdout",
          "text": [
            "The weighted sum of the inputs at the node in the output layer is 0.8861\n",
            "The output of the network for x1 = 0.5 and x2 = 0.85 is 0.7081\n"
          ]
        }
      ],
      "source": [
        "z_2 = a_11 * weights[4] + a_12 * weights[5] + biases[2]\n",
        "a_2 = 1.0 / (1.0 + np.exp(-z_2))\n",
        "print('The weighted sum of the inputs at the node in the output layer is {}'.format(np.around(z_2, decimals=4)))\n",
        "print('The output of the network for x1 = 0.5 and x2 = 0.85 is {}'.format(np.around(a_2, decimals=4)))"
      ],
      "execution_count": 10
    },
    {
      "cell_type": "markdown",
      "metadata": {
        "id": "3291a380-a134-495f-a8c9-2bb3ba95f95a"
      },
      "source": [
        "## Initialize a Network\n"
      ]
    },
    {
      "cell_type": "code",
      "metadata": {
        "id": "6358c551-41c2-4664-85dd-a2c852b76a5f"
      },
      "outputs": [],
      "source": [
        "n = 2 #number of inputs\n",
        "num_hidden_layers = 2 #number of hidden layers\n",
        "m = [2, 2] #number of nodes in each hidden layer\n",
        "num_nodes_output = 1 #number of nodes in the output layer"
      ],
      "execution_count": 12
    },
    {
      "cell_type": "code",
      "metadata": {
        "id": "00bcb234-c0bc-4c13-8a48-3c5c278289b8",
        "colab": {
          "base_uri": "https://localhost:8080/"
        },
        "outputId": "ea9b18e8-3fb6-4f0a-d9a4-1cc68a678c93"
      },
      "outputs": [
        {
          "output_type": "execute_result",
          "data": {
            "text/plain": [
              "{'layer_1': {'node_1': {'weights': array([0.47, 0.41]), 'bias': array([0.37])},\n",
              "  'node_2': {'weights': array([0.47, 0.07]), 'bias': array([0.89])}},\n",
              " 'layer_2': {'node_1': {'weights': array([0.06, 0.17]), 'bias': array([0.36])},\n",
              "  'node_2': {'weights': array([0.48, 0.03]), 'bias': array([0.43])}},\n",
              " 'output': {'node_1': {'weights': array([0.04, 0.44]), 'bias': array([0.05])}}}"
            ]
          },
          "metadata": {},
          "execution_count": 14
        }
      ],
      "source": [
        "import numpy as np\n",
        "\n",
        "def initialize_network(num_inputs, num_hidden_layers, num_nodes_hidden, num_nodes_output):\n",
        "    num_nodes_previous = num_inputs\n",
        "    network = {}\n",
        "    # loop through each layer and randomly initialize the weights and biases associated with each layer\n",
        "    for layer in range(num_hidden_layers + 1):\n",
        "\n",
        "        if layer == num_hidden_layers:\n",
        "            layer_name = 'output' # name last layer in the network output\n",
        "            num_nodes = num_nodes_output\n",
        "        else:\n",
        "            layer_name = 'layer_{}'.format(layer + 1) # otherwise give the layer a number\n",
        "            num_nodes = num_nodes_hidden[layer]\n",
        "\n",
        "        # initialize weights and bias for each node\n",
        "        network[layer_name] = {}\n",
        "        for node in range(num_nodes):\n",
        "            node_name = 'node_{}'.format(node+1)\n",
        "            network[layer_name][node_name] = {\n",
        "                'weights': np.around(np.random.uniform(size=num_nodes_previous), decimals=2),\n",
        "                'bias': np.around(np.random.uniform(size=1), decimals=2),\n",
        "            }\n",
        "        num_nodes_previous = num_nodes\n",
        "    return network\n",
        "\n",
        "initialize_network(n, num_hidden_layers, m, num_nodes_output)"
      ],
      "execution_count": 14
    },
    {
      "cell_type": "code",
      "metadata": {
        "id": "89e5a28a-91d5-42c7-8cb6-313e110bdfdd"
      },
      "outputs": [],
      "source": [
        "small_network = initialize_network(5, 3, [3, 2, 3], 1)"
      ],
      "execution_count": 15
    },
    {
      "cell_type": "code",
      "metadata": {
        "id": "ea354be8-3a36-4c13-a653-649eea3b3192",
        "colab": {
          "base_uri": "https://localhost:8080/"
        },
        "outputId": "615edb3d-c016-4237-dbb1-1725c741b31a"
      },
      "outputs": [
        {
          "output_type": "stream",
          "name": "stdout",
          "text": [
            "The inputs to the network are [0.15 0.74 0.26 0.53 0.01]\n"
          ]
        }
      ],
      "source": [
        "from random import seed\n",
        "import numpy as np\n",
        "\n",
        "def compute_weighted_sum(inputs, weights, bias):\n",
        "    return np.sum(inputs * weights) + bias\n",
        "\n",
        "def node_activation(weighted_sum):\n",
        "    return 1.0 / (1.0 + np.exp(-1 * weighted_sum))\n",
        "\n",
        "np.random.seed(12)\n",
        "inputs = np.around(np.random.uniform(size=5), decimals=2)\n",
        "\n",
        "print('The inputs to the network are {}'.format(inputs))"
      ],
      "execution_count": 19
    },
    {
      "cell_type": "code",
      "metadata": {
        "id": "30e734e1-a555-4d89-840d-9bfdb68e7d62",
        "colab": {
          "base_uri": "https://localhost:8080/"
        },
        "outputId": "e4923631-cb05-4529-e582-d733ac572e34"
      },
      "outputs": [
        {
          "output_type": "stream",
          "name": "stdout",
          "text": [
            "The weighted sum at the first node in the hidden layer is 1.5601\n"
          ]
        }
      ],
      "source": [
        "node_weights = small_network['layer_1']['node_1']['weights']\n",
        "node_bias = small_network['layer_1']['node_1']['bias']\n",
        "\n",
        "weighted_sum = compute_weighted_sum(inputs, node_weights, node_bias)\n",
        "print('The weighted sum at the first node in the hidden layer is {}'.format(np.around(weighted_sum[0], decimals=4)))"
      ],
      "execution_count": 17
    },
    {
      "cell_type": "code",
      "metadata": {
        "id": "d0b7b2b2-6562-497c-8da0-3fc5438ed21b",
        "colab": {
          "base_uri": "https://localhost:8080/"
        },
        "outputId": "850ea1cb-9851-4ac5-e8a6-84e7e0986999"
      },
      "outputs": [
        {
          "output_type": "stream",
          "name": "stdout",
          "text": [
            "The output of the first node in the hidden layer is 0.8264\n"
          ]
        }
      ],
      "source": [
        "node_output  = node_activation(compute_weighted_sum(inputs, node_weights, node_bias))\n",
        "print('The output of the first node in the hidden layer is {}'.format(np.around(node_output[0], decimals=4)))"
      ],
      "execution_count": 20
    },
    {
      "cell_type": "markdown",
      "metadata": {
        "id": "2ea32d9b-7af9-41dd-8a60-d9d4d8cef4df"
      },
      "source": [
        "## Forward Propagation\n"
      ]
    },
    {
      "cell_type": "code",
      "metadata": {
        "id": "188d6a40-bc9a-498e-8c78-fd4746b7e6f3"
      },
      "outputs": [],
      "source": [
        "def forward_propagate(network, inputs):\n",
        "    layer_inputs = list(inputs) #start with the input layer as the input to the first hidden layer\n",
        "    for layer in network:\n",
        "        layer_data = network[layer]\n",
        "        layer_outputs = []\n",
        "        for layer_node in layer_data:\n",
        "            node_data = layer_data[layer_node]\n",
        "            #compute the weighted sum and the output of each node at the same time\n",
        "            node_output = node_activation(compute_weighted_sum(layer_inputs, node_data['weights'], node_data['bias']))\n",
        "            layer_outputs.append(np.around(node_output[0], decimals=4))\n",
        "        if layer != 'output':\n",
        "            print('The outputs of the nodes in hidden layer number {} is {}'.format(layer.split('_')[1], layer_outputs))\n",
        "        layer_inputs = layer_outputs # set the output of this layer to be the input to next layer\n",
        "    network_predictions = layer_outputs\n",
        "    return network_predictions"
      ],
      "execution_count": 21
    },
    {
      "cell_type": "code",
      "metadata": {
        "id": "8849cfab-90b9-42d6-8eeb-f4885913a347",
        "colab": {
          "base_uri": "https://localhost:8080/"
        },
        "outputId": "cc789265-4827-44ac-b850-2898d65e61b7"
      },
      "outputs": [
        {
          "output_type": "stream",
          "name": "stdout",
          "text": [
            "The outputs of the nodes in hidden layer number 1 is [0.8264, 0.8773, 0.7844]\n",
            "The outputs of the nodes in hidden layer number 2 is [0.8381, 0.8583]\n",
            "The outputs of the nodes in hidden layer number 3 is [0.7316, 0.6775, 0.7921]\n",
            "The predicted value by the network for the given input is 0.7186\n"
          ]
        }
      ],
      "source": [
        "predictions = forward_propagate(small_network, inputs)\n",
        "print('The predicted value by the network for the given input is {}'.format(np.around(predictions[0], decimals=4)))"
      ],
      "execution_count": 22
    },
    {
      "cell_type": "code",
      "metadata": {
        "id": "1d6e6fa2-b8fa-4da8-878c-18a937f2a72d",
        "colab": {
          "base_uri": "https://localhost:8080/"
        },
        "outputId": "5f1440df-1f6f-410b-e650-4d6cca501771"
      },
      "outputs": [
        {
          "output_type": "stream",
          "name": "stdout",
          "text": [
            "The outputs of the nodes in hidden layer number 1 is [0.9261, 0.7675]\n",
            "The outputs of the nodes in hidden layer number 2 is [0.6835, 0.7305, 0.7513]\n",
            "The outputs of the nodes in hidden layer number 3 is [0.8373, 0.8749]\n",
            "The predicted values by the network for the given input are [0.8007, 0.8097, 0.7775]\n"
          ]
        }
      ],
      "source": [
        "my_network = initialize_network(5, 3, [2, 3, 2], 3)\n",
        "inputs = np.around(np.random.uniform(size=5), decimals=2)\n",
        "predictions = forward_propagate(my_network, inputs)\n",
        "print('The predicted values by the network for the given input are {}'.format(predictions))"
      ],
      "execution_count": 24
    }
  ],
  "metadata": {
    "kernelspec": {
      "display_name": "Python 3",
      "name": "python3"
    },
    "language_info": {
      "name": "python"
    },
    "colab": {
      "provenance": [],
      "include_colab_link": true
    }
  },
  "nbformat": 4,
  "nbformat_minor": 0
}