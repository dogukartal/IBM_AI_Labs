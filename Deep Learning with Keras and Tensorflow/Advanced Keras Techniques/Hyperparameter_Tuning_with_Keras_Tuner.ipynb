{
  "cells": [
    {
      "cell_type": "markdown",
      "metadata": {
        "id": "view-in-github",
        "colab_type": "text"
      },
      "source": [
        "<a href=\"https://colab.research.google.com/github/dogukartal/IBM_AI_Labs/blob/main/Deep%20Learning%20with%20Keras%20and%20Tensorflow/Advanced%20Keras%20Techniques/Hyperparameter_Tuning_with_Keras_Tuner.ipynb\" target=\"_parent\"><img src=\"https://colab.research.google.com/assets/colab-badge.svg\" alt=\"Open In Colab\"/></a>"
      ]
    },
    {
      "cell_type": "code",
      "metadata": {
        "id": "bb1aa17f-13ea-4393-891a-6ad4197e21b4"
      },
      "outputs": [],
      "source": [
        "!pip install keras-tuner"
      ],
      "execution_count": null
    },
    {
      "cell_type": "code",
      "metadata": {
        "id": "0e84a1ad-88c3-4ee9-a199-2d46c311ae27"
      },
      "outputs": [],
      "source": [
        "import keras_tuner as kt\n",
        "from tensorflow.keras.models import Sequential\n",
        "from tensorflow.keras.layers import Dense, Flatten\n",
        "from tensorflow.keras.datasets import mnist\n",
        "from tensorflow.keras.optimizers import Adam"
      ],
      "execution_count": 2
    },
    {
      "cell_type": "code",
      "metadata": {
        "colab": {
          "base_uri": "https://localhost:8080/"
        },
        "id": "51859a1c-f926-4a5d-a201-440d55661130",
        "outputId": "4195efa2-aec2-45cb-f047-fcaef541c301"
      },
      "outputs": [
        {
          "output_type": "stream",
          "name": "stdout",
          "text": [
            "Downloading data from https://storage.googleapis.com/tensorflow/tf-keras-datasets/mnist.npz\n",
            "\u001b[1m11490434/11490434\u001b[0m \u001b[32m━━━━━━━━━━━━━━━━━━━━\u001b[0m\u001b[37m\u001b[0m \u001b[1m0s\u001b[0m 0us/step\n"
          ]
        }
      ],
      "source": [
        "(x_train, y_train), (x_val, y_val) = mnist.load_data()\n",
        "x_train, x_val = x_train / 255.0, x_val / 255.0"
      ],
      "execution_count": 3
    },
    {
      "cell_type": "markdown",
      "metadata": {
        "id": "b3b3c986-4e3c-491e-84e4-fbb79a21bd73"
      },
      "source": [
        "### Defining the model with hyperparameters\n"
      ]
    },
    {
      "cell_type": "code",
      "metadata": {
        "id": "7b3ac761-410c-4cc6-8d8b-f7fbd3e61b3a"
      },
      "outputs": [],
      "source": [
        "def build_model(hp):\n",
        "    model = Sequential([\n",
        "        Flatten(input_shape=(28, 28)),\n",
        "        Dense(units=hp.Int('units', min_value=32, max_value=512, step=32), activation='relu'), # Integer Search\n",
        "        Dense(10, activation='softmax')\n",
        "    ])\n",
        "    model.compile(\n",
        "        optimizer=Adam(learning_rate=hp.Float('learning_rate', min_value=1e-4, max_value=1e-2, sampling='LOG')), # Float Search\n",
        "        loss='sparse_categorical_crossentropy',\n",
        "        metrics=['accuracy']\n",
        "    )\n",
        "    return model"
      ],
      "execution_count": 4
    },
    {
      "cell_type": "markdown",
      "metadata": {
        "id": "cab1fe37-78d8-4c10-9461-9ef8b222b26c"
      },
      "source": [
        "### Configuring the hyperparameter search\n"
      ]
    },
    {
      "cell_type": "code",
      "metadata": {
        "colab": {
          "base_uri": "https://localhost:8080/"
        },
        "id": "68e12d2d-237e-424f-bc89-6aa851bfe3b5",
        "outputId": "27703f94-3092-456b-b6f2-7e22496e0181"
      },
      "outputs": [
        {
          "output_type": "stream",
          "name": "stdout",
          "text": [
            "Search space summary\n",
            "Default search space size: 2\n",
            "units (Int)\n",
            "{'default': None, 'conditions': [], 'min_value': 32, 'max_value': 512, 'step': 32, 'sampling': 'linear'}\n",
            "learning_rate (Float)\n",
            "{'default': 0.0001, 'conditions': [], 'min_value': 0.0001, 'max_value': 0.01, 'step': None, 'sampling': 'log'}\n"
          ]
        },
        {
          "output_type": "stream",
          "name": "stderr",
          "text": [
            "/usr/local/lib/python3.10/dist-packages/keras/src/layers/reshaping/flatten.py:37: UserWarning: Do not pass an `input_shape`/`input_dim` argument to a layer. When using Sequential models, prefer using an `Input(shape)` object as the first layer in the model instead.\n",
            "  super().__init__(**kwargs)\n"
          ]
        }
      ],
      "source": [
        "# Create a RandomSearch Tuner\n",
        "tuner = kt.RandomSearch(\n",
        "    build_model,\n",
        "    objective='val_accuracy',\n",
        "    max_trials=10,\n",
        "    executions_per_trial=2,\n",
        "    directory='my_dir',\n",
        "    project_name='intro_to_kt'\n",
        ")\n",
        "\n",
        "# Display a summary of the search space\n",
        "tuner.search_space_summary()"
      ],
      "execution_count": 5
    },
    {
      "cell_type": "code",
      "metadata": {
        "colab": {
          "base_uri": "https://localhost:8080/"
        },
        "id": "0fc5b92b-c469-4a4f-8145-2957d0deeedc",
        "outputId": "5f747791-ad08-4225-91bb-5c5c7333de9c"
      },
      "outputs": [
        {
          "output_type": "stream",
          "name": "stdout",
          "text": [
            "Trial 10 Complete [00h 00m 46s]\n",
            "val_accuracy: 0.9593499898910522\n",
            "\n",
            "Best val_accuracy So Far: 0.9798499941825867\n",
            "Total elapsed time: 00h 15m 06s\n",
            "Results summary\n",
            "Results in my_dir/intro_to_kt\n",
            "Showing 10 best trials\n",
            "Objective(name=\"val_accuracy\", direction=\"max\")\n",
            "\n",
            "Trial 03 summary\n",
            "Hyperparameters:\n",
            "units: 224\n",
            "learning_rate: 0.0009629240377974274\n",
            "Score: 0.9798499941825867\n",
            "\n",
            "Trial 01 summary\n",
            "Hyperparameters:\n",
            "units: 448\n",
            "learning_rate: 0.0003307120308325887\n",
            "Score: 0.9798000156879425\n",
            "\n",
            "Trial 08 summary\n",
            "Hyperparameters:\n",
            "units: 352\n",
            "learning_rate: 0.001698498750487087\n",
            "Score: 0.9792500138282776\n",
            "\n",
            "Trial 02 summary\n",
            "Hyperparameters:\n",
            "units: 192\n",
            "learning_rate: 0.0009249366576101544\n",
            "Score: 0.978050023317337\n",
            "\n",
            "Trial 00 summary\n",
            "Hyperparameters:\n",
            "units: 224\n",
            "learning_rate: 0.0025775021806983384\n",
            "Score: 0.9774999916553497\n",
            "\n",
            "Trial 05 summary\n",
            "Hyperparameters:\n",
            "units: 256\n",
            "learning_rate: 0.002013780525929294\n",
            "Score: 0.9765999913215637\n",
            "\n",
            "Trial 07 summary\n",
            "Hyperparameters:\n",
            "units: 32\n",
            "learning_rate: 0.004706845691073461\n",
            "Score: 0.9641000032424927\n",
            "\n",
            "Trial 06 summary\n",
            "Hyperparameters:\n",
            "units: 128\n",
            "learning_rate: 0.009698118933296643\n",
            "Score: 0.9636000096797943\n",
            "\n",
            "Trial 09 summary\n",
            "Hyperparameters:\n",
            "units: 32\n",
            "learning_rate: 0.006857612343716452\n",
            "Score: 0.9593499898910522\n",
            "\n",
            "Trial 04 summary\n",
            "Hyperparameters:\n",
            "units: 160\n",
            "learning_rate: 0.00011381759637795883\n",
            "Score: 0.9562000036239624\n"
          ]
        }
      ],
      "source": [
        "# Run the hyperparameter search\n",
        "tuner.search(x_train, y_train, epochs=5, validation_data=(x_val, y_val)) # Each trail is trained for 5 epochs\n",
        "\n",
        "# Display a summary of the results\n",
        "tuner.results_summary()"
      ],
      "execution_count": 6
    },
    {
      "cell_type": "code",
      "metadata": {
        "colab": {
          "base_uri": "https://localhost:8080/"
        },
        "id": "54ab5bf3-133d-42a5-abca-3a72cbf297fb",
        "outputId": "c26829cc-1cb5-4b21-a630-18fa1afd84d6"
      },
      "outputs": [
        {
          "output_type": "stream",
          "name": "stdout",
          "text": [
            "224\n",
            "0.0009629240377974274\n",
            "Epoch 1/10\n",
            "\u001b[1m1500/1500\u001b[0m \u001b[32m━━━━━━━━━━━━━━━━━━━━\u001b[0m\u001b[37m\u001b[0m \u001b[1m8s\u001b[0m 5ms/step - accuracy: 0.8716 - loss: 0.4401 - val_accuracy: 0.9614 - val_loss: 0.1308\n",
            "Epoch 2/10\n",
            "\u001b[1m1500/1500\u001b[0m \u001b[32m━━━━━━━━━━━━━━━━━━━━\u001b[0m\u001b[37m\u001b[0m \u001b[1m5s\u001b[0m 3ms/step - accuracy: 0.9672 - loss: 0.1104 - val_accuracy: 0.9697 - val_loss: 0.0984\n",
            "Epoch 3/10\n",
            "\u001b[1m1500/1500\u001b[0m \u001b[32m━━━━━━━━━━━━━━━━━━━━\u001b[0m\u001b[37m\u001b[0m \u001b[1m10s\u001b[0m 3ms/step - accuracy: 0.9787 - loss: 0.0725 - val_accuracy: 0.9745 - val_loss: 0.0854\n",
            "Epoch 4/10\n",
            "\u001b[1m1500/1500\u001b[0m \u001b[32m━━━━━━━━━━━━━━━━━━━━\u001b[0m\u001b[37m\u001b[0m \u001b[1m11s\u001b[0m 4ms/step - accuracy: 0.9859 - loss: 0.0484 - val_accuracy: 0.9737 - val_loss: 0.0866\n",
            "Epoch 5/10\n",
            "\u001b[1m1500/1500\u001b[0m \u001b[32m━━━━━━━━━━━━━━━━━━━━\u001b[0m\u001b[37m\u001b[0m \u001b[1m5s\u001b[0m 4ms/step - accuracy: 0.9887 - loss: 0.0361 - val_accuracy: 0.9725 - val_loss: 0.0952\n",
            "Epoch 6/10\n",
            "\u001b[1m1500/1500\u001b[0m \u001b[32m━━━━━━━━━━━━━━━━━━━━\u001b[0m\u001b[37m\u001b[0m \u001b[1m10s\u001b[0m 4ms/step - accuracy: 0.9912 - loss: 0.0284 - val_accuracy: 0.9756 - val_loss: 0.0850\n",
            "Epoch 7/10\n",
            "\u001b[1m1500/1500\u001b[0m \u001b[32m━━━━━━━━━━━━━━━━━━━━\u001b[0m\u001b[37m\u001b[0m \u001b[1m7s\u001b[0m 5ms/step - accuracy: 0.9944 - loss: 0.0196 - val_accuracy: 0.9749 - val_loss: 0.0905\n",
            "Epoch 8/10\n",
            "\u001b[1m1500/1500\u001b[0m \u001b[32m━━━━━━━━━━━━━━━━━━━━\u001b[0m\u001b[37m\u001b[0m \u001b[1m5s\u001b[0m 4ms/step - accuracy: 0.9948 - loss: 0.0168 - val_accuracy: 0.9784 - val_loss: 0.0807\n",
            "Epoch 9/10\n",
            "\u001b[1m1500/1500\u001b[0m \u001b[32m━━━━━━━━━━━━━━━━━━━━\u001b[0m\u001b[37m\u001b[0m \u001b[1m6s\u001b[0m 4ms/step - accuracy: 0.9970 - loss: 0.0112 - val_accuracy: 0.9704 - val_loss: 0.1103\n",
            "Epoch 10/10\n",
            "\u001b[1m1500/1500\u001b[0m \u001b[32m━━━━━━━━━━━━━━━━━━━━\u001b[0m\u001b[37m\u001b[0m \u001b[1m9s\u001b[0m 4ms/step - accuracy: 0.9967 - loss: 0.0114 - val_accuracy: 0.9747 - val_loss: 0.0937\n",
            "\u001b[1m313/313\u001b[0m \u001b[32m━━━━━━━━━━━━━━━━━━━━\u001b[0m\u001b[37m\u001b[0m \u001b[1m1s\u001b[0m 2ms/step - accuracy: 0.9751 - loss: 0.0955\n",
            "Test accuracy: 0.9783999919891357\n"
          ]
        }
      ],
      "source": [
        "# The best hyperparameters\n",
        "best_hps = tuner.get_best_hyperparameters(num_trials=1)[0]\n",
        "\n",
        "print(best_hps.get('units'))\n",
        "print(best_hps.get('learning_rate'))\n",
        "\n",
        "# Build and Train the Model with Best Hyperparameters\n",
        "model = tuner.hypermodel.build(best_hps)\n",
        "model.fit(x_train, y_train, epochs=10, validation_split=0.2)\n",
        "\n",
        "# Evaluate the model on the test set\n",
        "test_loss, test_acc = model.evaluate(x_val, y_val)\n",
        "print(f'Test accuracy: {test_acc}')"
      ],
      "execution_count": 7
    }
  ],
  "metadata": {
    "kernelspec": {
      "display_name": "Python 3",
      "name": "python3"
    },
    "language_info": {
      "codemirror_mode": {
        "name": "ipython",
        "version": 3
      },
      "file_extension": ".py",
      "mimetype": "text/x-python",
      "name": "python",
      "nbconvert_exporter": "python",
      "pygments_lexer": "ipython3",
      "version": "3.11.9"
    },
    "prev_pub_hash": "bcaac19a1acad1c392f0e26848b84e2be7a94464a9796c911499271eb3d0672a",
    "colab": {
      "provenance": [],
      "gpuType": "T4",
      "include_colab_link": true
    },
    "accelerator": "GPU"
  },
  "nbformat": 4,
  "nbformat_minor": 0
}