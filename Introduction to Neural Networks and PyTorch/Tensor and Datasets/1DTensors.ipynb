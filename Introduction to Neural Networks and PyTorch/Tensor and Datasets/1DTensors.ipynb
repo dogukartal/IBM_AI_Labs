{
  "cells": [
    {
      "cell_type": "markdown",
      "metadata": {
        "id": "view-in-github",
        "colab_type": "text"
      },
      "source": [
        "<a href=\"https://colab.research.google.com/github/dogukartal/IBM_AI_Labs/blob/main/Introduction%20to%20Neural%20Networks%20and%20PyTorch/Tensor%20and%20Datasets/1Dtensors.ipynb\" target=\"_parent\"><img src=\"https://colab.research.google.com/assets/colab-badge.svg\" alt=\"Open In Colab\"/></a>"
      ]
    },
    {
      "cell_type": "code",
      "metadata": {
        "id": "7c75b404-d43f-4fcb-87a3-f95ce9de7a5b"
      },
      "outputs": [],
      "source": [
        "import torch\n",
        "import numpy as np\n",
        "import pandas as pd\n",
        "import matplotlib.pyplot as plt"
      ],
      "execution_count": 1
    },
    {
      "cell_type": "code",
      "metadata": {
        "colab": {
          "base_uri": "https://localhost:8080/",
          "height": 35
        },
        "id": "86db95d7-b3ac-4171-83df-4dd9a93c4fd3",
        "outputId": "13f8bd13-4d24-47a6-ba23-da489a23c488"
      },
      "outputs": [
        {
          "output_type": "execute_result",
          "data": {
            "text/plain": [
              "'2.5.1+cu121'"
            ],
            "application/vnd.google.colaboratory.intrinsic+json": {
              "type": "string"
            }
          },
          "metadata": {},
          "execution_count": 2
        }
      ],
      "source": [
        "torch.__version__"
      ],
      "execution_count": 2
    },
    {
      "cell_type": "code",
      "metadata": {
        "id": "c6a54f85-888b-4bcf-9b1e-50af37560063"
      },
      "outputs": [],
      "source": [
        "def plotVec(vectors):\n",
        "    # @param: Vectors = [{\"vector\": vector variable, \"name\": name of vector, \"color\": color of the vector on diagram}]\n",
        "    ax = plt.axes()\n",
        "    for vec in vectors:\n",
        "        ax.arrow(0, 0, *vec[\"vector\"], head_width = 0.05,color = vec[\"color\"], head_length = 0.1)\n",
        "        plt.text(*(vec[\"vector\"] + 0.1), vec[\"name\"])\n",
        "    plt.ylim(-2,2)\n",
        "    plt.xlim(-2,2)"
      ],
      "execution_count": 4
    },
    {
      "cell_type": "markdown",
      "source": [
        "## Creating Tensors\n",
        "---"
      ],
      "metadata": {
        "id": "7OiW0gCs2rA_"
      }
    },
    {
      "cell_type": "code",
      "metadata": {
        "colab": {
          "base_uri": "https://localhost:8080/"
        },
        "id": "61d256ed-9546-49d7-8727-d5414af5aba5",
        "outputId": "5d434c6c-ef4e-4ce4-a663-38972fd18725"
      },
      "outputs": [
        {
          "output_type": "stream",
          "name": "stdout",
          "text": [
            "The dtype of tensor object after converting it to tensor:  torch.int64\n",
            "The type of tensor object after converting it to tensor:  torch.LongTensor\n"
          ]
        }
      ],
      "source": [
        "ints_to_tensor = torch.tensor([0, 1, 2, 3, 4]) # List is converted to torch.LongTensor\n",
        "print(\"The dtype of tensor object after converting it to tensor: \", ints_to_tensor.dtype)\n",
        "print(\"The type of tensor object after converting it to tensor: \", ints_to_tensor.type())"
      ],
      "execution_count": 5
    },
    {
      "cell_type": "code",
      "metadata": {
        "colab": {
          "base_uri": "https://localhost:8080/"
        },
        "id": "e1bb25f5-6304-4ff0-b941-4914775c2509",
        "outputId": "e74a0bcd-625c-4bb9-eca0-3d21248252e3"
      },
      "outputs": [
        {
          "output_type": "execute_result",
          "data": {
            "text/plain": [
              "torch.Tensor"
            ]
          },
          "metadata": {},
          "execution_count": 6
        }
      ],
      "source": [
        "type(ints_to_tensor) # Python type is torch.Tensor"
      ],
      "execution_count": 6
    },
    {
      "cell_type": "code",
      "metadata": {
        "colab": {
          "base_uri": "https://localhost:8080/"
        },
        "id": "ee3f41bc-8039-4609-956e-8fb2fa416ac3",
        "outputId": "baabe69c-9cdc-44b0-a07a-81b2a90f8b6b"
      },
      "outputs": [
        {
          "output_type": "stream",
          "name": "stdout",
          "text": [
            "The dtype of tensor object after converting it to tensor:  torch.float32\n",
            "The type of tensor object after converting it to tensor:  torch.FloatTensor\n"
          ]
        }
      ],
      "source": [
        "floats_to_tensor = torch.tensor([0.0, 1.0, 2.0, 3.0, 4.0]) # List is converted to torch.FloatTensor\n",
        "print(\"The dtype of tensor object after converting it to tensor: \", floats_to_tensor.dtype)\n",
        "print(\"The type of tensor object after converting it to tensor: \", floats_to_tensor.type())"
      ],
      "execution_count": 7
    },
    {
      "cell_type": "code",
      "source": [
        "type(floats_to_tensor) # Python type is torch.Tensor"
      ],
      "metadata": {
        "colab": {
          "base_uri": "https://localhost:8080/"
        },
        "id": "T43h8uVK1v4H",
        "outputId": "7a42c417-0b6c-4651-b053-7553f2b01221"
      },
      "execution_count": 8,
      "outputs": [
        {
          "output_type": "execute_result",
          "data": {
            "text/plain": [
              "torch.Tensor"
            ]
          },
          "metadata": {},
          "execution_count": 8
        }
      ]
    },
    {
      "cell_type": "markdown",
      "metadata": {
        "id": "7fc39453-05b1-45f2-a17d-378c9604d43d"
      },
      "source": [
        "The float list is converted to a float tensor.\n"
      ]
    },
    {
      "cell_type": "code",
      "metadata": {
        "colab": {
          "base_uri": "https://localhost:8080/"
        },
        "id": "31a5c6ff-513d-47b9-bbb2-94cfed6f2905",
        "outputId": "e08a6a45-6f67-4ba7-b8a7-39dadf7eb1cd"
      },
      "outputs": [
        {
          "output_type": "stream",
          "name": "stdout",
          "text": [
            "The dtype of tensor object is:  torch.int64\n",
            "The type of tensor object is:  torch.LongTensor\n"
          ]
        }
      ],
      "source": [
        "floats_int_tensor=torch.tensor([0.0, 1.0, 2.0, 3.0, 4.0], dtype=torch.int64)\n",
        "print(\"The dtype of tensor object is: \", floats_int_tensor.dtype)\n",
        "print(\"The type of tensor object is: \", floats_int_tensor.type())"
      ],
      "execution_count": 9
    },
    {
      "cell_type": "code",
      "metadata": {
        "colab": {
          "base_uri": "https://localhost:8080/"
        },
        "id": "b97daee0-dfc7-40fd-8fc0-531e6b49c79d",
        "outputId": "50e29450-69ff-430f-a047-9fdd2e24bbaf"
      },
      "outputs": [
        {
          "output_type": "stream",
          "name": "stdout",
          "text": [
            "The dtype of tensor object is:  torch.float32\n",
            "The type of the new_float_tensor: torch.FloatTensor\n"
          ]
        }
      ],
      "source": [
        "new_float_tensor = torch.FloatTensor([0, 1, 2, 3, 4]) # Integer list is converted to torch.FloatTensor\n",
        "print(\"The dtype of tensor object is: \", new_float_tensor.dtype)\n",
        "print(\"The type of the new_float_tensor:\", new_float_tensor.type())"
      ],
      "execution_count": 11
    },
    {
      "cell_type": "code",
      "metadata": {
        "colab": {
          "base_uri": "https://localhost:8080/"
        },
        "id": "9020f936-6fba-4f84-9da6-30ac788d0cbd",
        "outputId": "98375201-9336-40e7-dc26-dd8d5971dcbc"
      },
      "outputs": [
        {
          "output_type": "stream",
          "name": "stdout",
          "text": [
            "The type of the new_float_tensor: torch.FloatTensor\n"
          ]
        }
      ],
      "source": [
        "old_int_tensor = torch.tensor([0, 1, 2, 3, 4])\n",
        "new_float_tensor = old_int_tensor.type(torch.FloatTensor)\n",
        "print(\"The type of the new_float_tensor:\", new_float_tensor.type())"
      ],
      "execution_count": 12
    },
    {
      "cell_type": "code",
      "metadata": {
        "colab": {
          "base_uri": "https://localhost:8080/"
        },
        "id": "315bfa92-6315-4c0a-a5ee-09ed057397ad",
        "outputId": "e76c8018-20a5-45d1-c243-6f113671fbb9"
      },
      "outputs": [
        {
          "output_type": "stream",
          "name": "stdout",
          "text": [
            "The dtype of new tensor:  torch.float64\n",
            "The type of new tensor:  torch.DoubleTensor\n"
          ]
        }
      ],
      "source": [
        "# Convert a numpy array to a tensor\n",
        "numpy_array = np.array([0.0, 1.0, 2.0, 3.0, 4.0])\n",
        "new_tensor = torch.from_numpy(numpy_array)\n",
        "\n",
        "print(\"The dtype of new tensor: \", new_tensor.dtype)\n",
        "print(\"The type of new tensor: \", new_tensor.type())"
      ],
      "execution_count": 18
    },
    {
      "cell_type": "code",
      "metadata": {
        "colab": {
          "base_uri": "https://localhost:8080/"
        },
        "id": "c77fcb07-e0a4-44eb-8e06-8643a01db50a",
        "outputId": "8ecd3e73-9030-4175-8f2f-18512c7ba748"
      },
      "outputs": [
        {
          "output_type": "stream",
          "name": "stdout",
          "text": [
            "The numpy array from tensor:  [0. 1. 2. 3. 4.]\n",
            "The dtype of numpy array:  float64\n",
            "The type of new tensor:  <class 'numpy.ndarray'>\n"
          ]
        }
      ],
      "source": [
        "# Convert a tensor to a numpy array\n",
        "back_to_numpy = new_tensor.numpy()\n",
        "\n",
        "print(\"The numpy array from tensor: \", back_to_numpy)\n",
        "print(\"The dtype of numpy array: \", back_to_numpy.dtype)\n",
        "print(\"The type of new tensor: \", type(back_to_numpy))"
      ],
      "execution_count": 21
    },
    {
      "cell_type": "code",
      "metadata": {
        "colab": {
          "base_uri": "https://localhost:8080/"
        },
        "id": "c5ce25d0-7ab3-4bbf-b090-26159c83ee52",
        "outputId": "ea93e384-7870-48f3-d587-5400a2885406"
      },
      "outputs": [
        {
          "output_type": "stream",
          "name": "stdout",
          "text": [
            "The new tensor points to numpy_array :  tensor([0., 0., 0., 0., 0.], dtype=torch.float64)\n",
            "and back to numpy array points to the tensor:  [0. 0. 0. 0. 0.]\n"
          ]
        }
      ],
      "source": [
        "# Set all elements in numpy array to zero then the tensor pointed to numpy array will also change\n",
        "numpy_array[:] = 0\n",
        "\n",
        "print(\"The new tensor points to numpy_array : \", new_tensor)\n",
        "print(\"and back to numpy array points to the tensor: \", back_to_numpy)"
      ],
      "execution_count": 22
    },
    {
      "cell_type": "code",
      "metadata": {
        "colab": {
          "base_uri": "https://localhost:8080/"
        },
        "id": "39d3e75f-b59f-45bc-81ac-815036088d73",
        "outputId": "d222d2a4-cb97-48e6-a83e-f7b5c2efee54"
      },
      "outputs": [
        {
          "output_type": "stream",
          "name": "stdout",
          "text": [
            "The new tensor from numpy array:  tensor([ 0.1000,  2.0000,  0.3000, 10.1000], dtype=torch.float64)\n",
            "The dtype of new tensor:  torch.float64\n",
            "The type of new tensor:  torch.DoubleTensor\n"
          ]
        }
      ],
      "source": [
        "# Convert a panda series to a tensor\n",
        "pandas_series=pd.Series([0.1, 2, 0.3, 10.1])\n",
        "new_tensor=torch.from_numpy(pandas_series.values)\n",
        "\n",
        "print(\"The new tensor from numpy array: \", new_tensor)\n",
        "print(\"The dtype of new tensor: \", new_tensor.dtype)\n",
        "print(\"The type of new tensor: \", new_tensor.type())"
      ],
      "execution_count": 23
    },
    {
      "cell_type": "markdown",
      "source": [
        "## Tensor Methods\n",
        "---"
      ],
      "metadata": {
        "id": "LrkRhf7I3BMZ"
      }
    },
    {
      "cell_type": "code",
      "metadata": {
        "colab": {
          "base_uri": "https://localhost:8080/"
        },
        "id": "d01a8c68-0096-478c-8ee9-12c16774bf6c",
        "outputId": "b34be99f-13b0-4e8a-e036-2c9ce450a5ee"
      },
      "outputs": [
        {
          "output_type": "stream",
          "name": "stdout",
          "text": [
            "The size of the new_float_tensor:  torch.Size([5])\n",
            "The dimension of the new_float_tensor:  1\n"
          ]
        }
      ],
      "source": [
        "print(\"The size of the new_float_tensor: \", new_float_tensor.size())\n",
        "print(\"The dimension of the new_float_tensor: \",new_float_tensor.ndimension())"
      ],
      "execution_count": 13
    },
    {
      "cell_type": "code",
      "metadata": {
        "colab": {
          "base_uri": "https://localhost:8080/"
        },
        "id": "0de35157-4b6f-427e-8fa0-1a5ad4647755",
        "outputId": "5fff8b9d-a83c-433c-c988-380f7746ee65"
      },
      "outputs": [
        {
          "output_type": "stream",
          "name": "stdout",
          "text": [
            "Size after view method torch.Size([5, 1])\n",
            "The dimension of the new_float_tensor:  2\n"
          ]
        }
      ],
      "source": [
        "twoD_float_tensor = new_float_tensor.view(5, 1)\n",
        "print(\"Size after view method\", twoD_float_tensor.size())\n",
        "print(\"The dimension of the new_float_tensor: \",twoD_float_tensor.ndimension())"
      ],
      "execution_count": 16
    },
    {
      "cell_type": "code",
      "metadata": {
        "colab": {
          "base_uri": "https://localhost:8080/"
        },
        "id": "4783f3a1-0ffa-4f5a-abec-4cb007b4f65b",
        "outputId": "08164653-2ef6-41a1-e569-28952bfa67a9"
      },
      "outputs": [
        {
          "output_type": "stream",
          "name": "stdout",
          "text": [
            "Size after view method torch.Size([5, 1])\n",
            "The dimension of the new_float_tensor:  2\n"
          ]
        }
      ],
      "source": [
        "twoD_float_tensor = new_float_tensor.view(-1, 1)\n",
        "print(\"Size after view method\", twoD_float_tensor.size())\n",
        "print(\"The dimension of the new_float_tensor: \",twoD_float_tensor.ndimension())"
      ],
      "execution_count": 17
    },
    {
      "cell_type": "code",
      "metadata": {
        "colab": {
          "base_uri": "https://localhost:8080/"
        },
        "id": "4ee8fa47-12cb-4fb5-ac74-63439e4f0f40",
        "outputId": "c6096225-3c5d-49e4-9a89-246256bf2597"
      },
      "outputs": [
        {
          "output_type": "stream",
          "name": "stdout",
          "text": [
            "the first item is given by 0 the first tensor value is given by  tensor(0)\n",
            "the second item is given by 1 the second tensor value is given by  tensor(1)\n",
            "the third  item is given by 2 the third tensor value is given by  tensor(2)\n"
          ]
        }
      ],
      "source": [
        " # The method item() returns the value of this tensor as a standard Python number\n",
        "this_tensor=torch.tensor([0, 1, 2, 3])\n",
        "\n",
        "print(\"the first item is given by\",this_tensor[0].item(),\"the first tensor value is given by \",this_tensor[0])\n",
        "print(\"the second item is given by\",this_tensor[1].item(),\"the second tensor value is given by \",this_tensor[1])\n",
        "print(\"the third  item is given by\",this_tensor[2].item(),\"the third tensor value is given by \",this_tensor[2])"
      ],
      "execution_count": 24
    },
    {
      "cell_type": "code",
      "metadata": {
        "colab": {
          "base_uri": "https://localhost:8080/"
        },
        "id": "26bb9b15-6e38-48d8-8a69-52c63c00a3b1",
        "outputId": "9b7013b8-e3c2-4193-8e67-aba62c4ccce0"
      },
      "outputs": [
        {
          "output_type": "stream",
          "name": "stdout",
          "text": [
            "tensor: tensor([0, 1, 2, 3]) \n",
            "list: [0, 1, 2, 3]\n"
          ]
        }
      ],
      "source": [
        "torch_to_list=this_tensor.tolist()\n",
        "\n",
        "print('tensor:', this_tensor,\"\\nlist:\",torch_to_list)"
      ],
      "execution_count": 25
    },
    {
      "cell_type": "markdown",
      "metadata": {
        "id": "5e6e6953-5281-43c9-a4e2-28e5c4998cf1"
      },
      "source": [
        "##Indexing and Slicing\n",
        "---"
      ]
    },
    {
      "cell_type": "markdown",
      "metadata": {
        "id": "b6522b27-0514-4f34-bc78-1970c571c9fc"
      },
      "source": [
        "<img src=\"https://s3-api.us-geo.objectstorage.softlayer.net/cf-courses-data/CognitiveClass/DL0110EN/notebook_images%20/chapter%201/idex_1.png\" width=\"500\" alt=\"Python Index\">\n"
      ]
    },
    {
      "cell_type": "code",
      "metadata": {
        "colab": {
          "base_uri": "https://localhost:8080/"
        },
        "id": "e1d89ffb-a394-4fba-b39c-9bbd14b964af",
        "outputId": "6a60169b-e58b-4878-b579-7c4559df69a2"
      },
      "outputs": [
        {
          "output_type": "stream",
          "name": "stdout",
          "text": [
            "The value on index 0: 0\n",
            "The value on index 1: 1\n",
            "The value on index 2: 2\n",
            "The value on index 3: 3\n",
            "The value on index 4: 4\n"
          ]
        }
      ],
      "source": [
        "# A tensor for showing how the indexs work on tensors\n",
        "index_tensor = torch.tensor([0, 1, 2, 3, 4])\n",
        "\n",
        "print(\"The value on index 0:\",index_tensor[0].item())\n",
        "print(\"The value on index 1:\",index_tensor[1].item())\n",
        "print(\"The value on index 2:\",index_tensor[2].item())\n",
        "print(\"The value on index 3:\",index_tensor[3].item())\n",
        "print(\"The value on index 4:\",index_tensor[4].item())"
      ],
      "execution_count": 28
    },
    {
      "cell_type": "code",
      "metadata": {
        "colab": {
          "base_uri": "https://localhost:8080/"
        },
        "id": "6fa6b549-93f7-4d89-af9b-de672c7ac8ed",
        "outputId": "4c6dce74-27ac-48a3-ac42-7c17d1d4c3d9"
      },
      "outputs": [
        {
          "output_type": "stream",
          "name": "stdout",
          "text": [
            "Inital value on index 0: tensor(20)\n",
            "Modified tensor: tensor([100,   1,   2,   3,   4])\n"
          ]
        }
      ],
      "source": [
        "# Change the value on the index 0 to 100\n",
        "tensor_sample = torch.tensor([20, 1, 2, 3, 4])\n",
        "\n",
        "print(\"Inital value on index 0:\", tensor_sample[0])\n",
        "tensor_sample[0] = 100\n",
        "print(\"Modified tensor:\", tensor_sample)"
      ],
      "execution_count": 29
    },
    {
      "cell_type": "code",
      "metadata": {
        "colab": {
          "base_uri": "https://localhost:8080/"
        },
        "id": "e9b8a268-cb7a-41fd-a4a5-35ac73792607",
        "outputId": "248a58ad-4e19-4416-b060-f311a3a2d69c"
      },
      "outputs": [
        {
          "output_type": "stream",
          "name": "stdout",
          "text": [
            "Inital value on index 4: tensor(4)\n",
            "Modified tensor: tensor([100,   1,   2,   3,   0])\n"
          ]
        }
      ],
      "source": [
        "# Change the value on the index 4 to 0\n",
        "\n",
        "print(\"Inital value on index 4:\", tensor_sample[4])\n",
        "tensor_sample[4] = 0\n",
        "print(\"Modified tensor:\", tensor_sample)"
      ],
      "execution_count": 30
    },
    {
      "cell_type": "code",
      "metadata": {
        "colab": {
          "base_uri": "https://localhost:8080/"
        },
        "id": "018af58c-8062-4cb3-9493-e6d09c169725",
        "outputId": "40ed25b6-20fd-46af-fd89-46177c3280d1"
      },
      "outputs": [
        {
          "output_type": "stream",
          "name": "stdout",
          "text": [
            "Original tensor sample:  tensor([100,   1,   2,   3,   0])\n",
            "The subset of tensor sample: tensor([1, 2, 3])\n"
          ]
        }
      ],
      "source": [
        "# Slice tensor_sample\n",
        "subset_tensor_sample = tensor_sample[1:4]\n",
        "\n",
        "print(\"Original tensor sample: \", tensor_sample)\n",
        "print(\"The subset of tensor sample:\", subset_tensor_sample)"
      ],
      "execution_count": 31
    },
    {
      "cell_type": "code",
      "metadata": {
        "colab": {
          "base_uri": "https://localhost:8080/"
        },
        "id": "c6b38374-65f1-4e96-82c8-1b248dfdf421",
        "outputId": "e6af41a3-7af2-44a9-b98e-bb3cd977b66e"
      },
      "outputs": [
        {
          "output_type": "stream",
          "name": "stdout",
          "text": [
            "Inital value on index 3 and index 4: tensor([3, 0])\n",
            "Modified tensor: tensor([100,   1,   2, 300, 400])\n"
          ]
        }
      ],
      "source": [
        "# Change the values on index 3 and index 4\n",
        "\n",
        "print(\"Inital value on index 3 and index 4:\", tensor_sample[3:5])\n",
        "tensor_sample[3:5] = torch.tensor([300.0, 400.0])\n",
        "print(\"Modified tensor:\", tensor_sample)"
      ],
      "execution_count": 32
    },
    {
      "cell_type": "code",
      "metadata": {
        "colab": {
          "base_uri": "https://localhost:8080/"
        },
        "id": "ffc2b537-f9d4-453c-8358-e82e451cb911",
        "outputId": "d141f24c-1f1d-42fc-ae3d-f603ad629982"
      },
      "outputs": [
        {
          "output_type": "stream",
          "name": "stdout",
          "text": [
            "The inital tensor_sample tensor([100,   1,   2, 300, 400])\n",
            "The subset of tensor_sample with the values on index 3 and 4:  tensor([300, 400])\n"
          ]
        }
      ],
      "source": [
        "# Using variable to contain the selected index, and pass it to slice operation\n",
        "\n",
        "selected_indexes = [3, 4]\n",
        "subset_tensor_sample = tensor_sample[selected_indexes]\n",
        "print(\"The inital tensor_sample\", tensor_sample)\n",
        "print(\"The subset of tensor_sample with the values on index 3 and 4: \", subset_tensor_sample)"
      ],
      "execution_count": 34
    },
    {
      "cell_type": "code",
      "metadata": {
        "colab": {
          "base_uri": "https://localhost:8080/"
        },
        "id": "3f02b3c7-7bb1-480c-919c-b6b33942c08a",
        "outputId": "4e406191-d6eb-4491-c129-58a8904cf0f0"
      },
      "outputs": [
        {
          "output_type": "stream",
          "name": "stdout",
          "text": [
            "The inital tensor_sample tensor([100,   1,   2, 300, 400])\n",
            "Modified tensor with one value:  tensor([   100, 100000,      2, 100000,    400])\n"
          ]
        }
      ],
      "source": [
        "#Using variable to assign the value to the selected indexes\n",
        "\n",
        "print(\"The inital tensor_sample\", tensor_sample)\n",
        "selected_indexes = [1, 3]\n",
        "tensor_sample[selected_indexes] = 100000\n",
        "print(\"Modified tensor with one value: \", tensor_sample)"
      ],
      "execution_count": 35
    },
    {
      "cell_type": "markdown",
      "metadata": {
        "id": "b42d8402-5f99-447c-b72a-d0c1307acdde"
      },
      "source": [
        "##Tensor Functions\n",
        "---"
      ]
    },
    {
      "cell_type": "markdown",
      "metadata": {
        "id": "c0c51527-0e05-494a-aded-d16d71f96de1"
      },
      "source": [
        "### Mean and Standard Deviation\n"
      ]
    },
    {
      "cell_type": "code",
      "metadata": {
        "colab": {
          "base_uri": "https://localhost:8080/"
        },
        "id": "3c4529ac-793f-4251-9e07-8b7a5502252e",
        "outputId": "02dd81a7-7c39-45f4-d36c-88310aeeade6"
      },
      "outputs": [
        {
          "output_type": "stream",
          "name": "stdout",
          "text": [
            "The mean of math_tensor:  tensor(0.)\n",
            "The standard deviation of math_tensor:  tensor(1.1547)\n"
          ]
        }
      ],
      "source": [
        "# Sample tensor for mathematic calculation methods on tensor\n",
        "math_tensor = torch.tensor([1.0, -1.0, 1, -1])\n",
        "\n",
        "#Calculate the mean for math_tensor\n",
        "mean = math_tensor.mean()\n",
        "print(\"The mean of math_tensor: \", mean)\n",
        "\n",
        "#Calculate the standard deviation for math_tensor\n",
        "standard_deviation = math_tensor.std()\n",
        "print(\"The standard deviation of math_tensor: \", standard_deviation)"
      ],
      "execution_count": 40
    },
    {
      "cell_type": "markdown",
      "metadata": {
        "id": "f53a1ac2-48d5-4b59-adce-d8885c570124"
      },
      "source": [
        "### Max and Min\n"
      ]
    },
    {
      "cell_type": "code",
      "metadata": {
        "colab": {
          "base_uri": "https://localhost:8080/"
        },
        "id": "b6fef52b-b8be-4561-a1e7-ef7a0fabaf4e",
        "outputId": "b4147c91-8874-4577-8389-2be07a0eae76"
      },
      "outputs": [
        {
          "output_type": "stream",
          "name": "stdout",
          "text": [
            "Maximum number in the tensor:  5\n",
            "Minimum number in the tensor:  1\n"
          ]
        }
      ],
      "source": [
        "# Sample for introducing max and min methods\n",
        "max_min_tensor = torch.tensor([1, 1, 3, 5, 5])\n",
        "\n",
        "# Method for finding the maximum value in the tensor\n",
        "max_val = max_min_tensor.max()\n",
        "print(\"Maximum number in the tensor: \", max_val.item())\n",
        "\n",
        "# Method for finding the minimum value in the tensor\n",
        "min_val = max_min_tensor.min()\n",
        "print(\"Minimum number in the tensor: \", min_val.item())"
      ],
      "execution_count": 44
    },
    {
      "cell_type": "markdown",
      "metadata": {
        "id": "0ca49c71-ed8a-4c10-9260-2ea9a58b7477"
      },
      "source": [
        "### Sin\n"
      ]
    },
    {
      "cell_type": "code",
      "metadata": {
        "colab": {
          "base_uri": "https://localhost:8080/"
        },
        "id": "d8dd7c28-7e91-4634-8f86-f7ff164e4122",
        "outputId": "756a1358-8650-4241-dde8-474fc7548fe7"
      },
      "outputs": [
        {
          "output_type": "stream",
          "name": "stdout",
          "text": [
            "The sin result of pi_tensor:  tensor([ 0.0000e+00,  1.0000e+00, -8.7423e-08])\n"
          ]
        }
      ],
      "source": [
        "# Method for calculating the sin result of each element in the tensor\n",
        "pi_tensor = torch.tensor([0, np.pi/2, np.pi])\n",
        "sin = torch.sin(pi_tensor)\n",
        "print(\"The sin result of pi_tensor: \", sin)"
      ],
      "execution_count": 45
    },
    {
      "cell_type": "markdown",
      "metadata": {
        "id": "67e48fe9-c97e-4e13-a4c7-c53f770d6e7e"
      },
      "source": [
        "### Create Tensor by <code>torch.linspace()</code>\n"
      ]
    },
    {
      "cell_type": "code",
      "metadata": {
        "colab": {
          "base_uri": "https://localhost:8080/"
        },
        "id": "bd8920ab-2b1a-4b2f-ae0b-bcdbff9891fc",
        "outputId": "7a634f0a-aed3-4772-e964-c727e2b882c3"
      },
      "outputs": [
        {
          "output_type": "stream",
          "name": "stdout",
          "text": [
            "First Try on linspace tensor([-2., -1.,  0.,  1.,  2.])\n",
            "Second Try on linspace tensor([-2.0000, -1.5000, -1.0000, -0.5000,  0.0000,  0.5000,  1.0000,  1.5000,\n",
            "         2.0000])\n"
          ]
        }
      ],
      "source": [
        "# Linspace to create tensor\n",
        "len_5_tensor = torch.linspace(-2, 2, steps = 5)\n",
        "print (\"First Try on linspace\", len_5_tensor)\n",
        "\n",
        "len_9_tensor = torch.linspace(-2, 2, steps = 9)\n",
        "print (\"Second Try on linspace\", len_9_tensor)"
      ],
      "execution_count": 46
    },
    {
      "cell_type": "code",
      "metadata": {
        "colab": {
          "base_uri": "https://localhost:8080/",
          "height": 447
        },
        "id": "7f947eaa-e4e4-4789-ac12-b9fdd8fdaf10",
        "outputId": "1fc6738e-4bf2-417e-b1ec-de6e1b5bedaf"
      },
      "outputs": [
        {
          "output_type": "execute_result",
          "data": {
            "text/plain": [
              "[<matplotlib.lines.Line2D at 0x7afe96bc61a0>]"
            ]
          },
          "metadata": {},
          "execution_count": 47
        },
        {
          "output_type": "display_data",
          "data": {
            "text/plain": [
              "<Figure size 640x480 with 1 Axes>"
            ],
            "image/png": "[encoded data removed]"
          },
          "metadata": {}
        }
      ],
      "source": [
        "# Construct the tensor within 0 to 360 degree\n",
        "pi_tensor = torch.linspace(0, 2*np.pi, 100)\n",
        "sin_result = torch.sin(pi_tensor)\n",
        "\n",
        "# Plot sin_result\n",
        "plt.plot(pi_tensor.numpy(), sin_result.numpy())"
      ],
      "execution_count": 47
    },
    {
      "cell_type": "markdown",
      "metadata": {
        "id": "907cdb9e-9467-43ab-b291-0437625ecfa1"
      },
      "source": [
        "## Tensor Operations\n",
        "---\n"
      ]
    },
    {
      "cell_type": "markdown",
      "metadata": {
        "id": "39fa27d8-6675-4aad-841d-c9b84184dd34"
      },
      "source": [
        "<h3>Tensor Addition</h3>\n"
      ]
    },
    {
      "cell_type": "code",
      "metadata": {
        "colab": {
          "base_uri": "https://localhost:8080/",
          "height": 452
        },
        "id": "67bc0f0d-6bd5-4588-b234-a7273e932652",
        "outputId": "c369e7cf-a4b7-44a1-8c97-f43160f02abf"
      },
      "outputs": [
        {
          "output_type": "stream",
          "name": "stdout",
          "text": [
            "The result tensor:  tensor([1, 1])\n"
          ]
        },
        {
          "output_type": "display_data",
          "data": {
            "text/plain": [
              "<Figure size 640x480 with 1 Axes>"
            ],
            "image/png": "[encoded data removed]"
          },
          "metadata": {}
        }
      ],
      "source": [
        "# Create two sample tensors\n",
        "u = torch.tensor([1, 0])\n",
        "v = torch.tensor([0, 1])\n",
        "\n",
        "# Add u and v\n",
        "w = u + v\n",
        "print(\"The result tensor: \", w)\n",
        "\n",
        "# Plot u, v, w\n",
        "plotVec([\n",
        "    {\"vector\": u.numpy(), \"name\": 'u', \"color\": 'r'},\n",
        "    {\"vector\": v.numpy(), \"name\": 'v', \"color\": 'b'},\n",
        "    {\"vector\": w.numpy(), \"name\": 'w', \"color\": 'g'}\n",
        "])"
      ],
      "execution_count": 48
    },
    {
      "cell_type": "code",
      "metadata": {
        "colab": {
          "base_uri": "https://localhost:8080/"
        },
        "id": "9ab71683-5543-464d-b319-8016d610ef16",
        "outputId": "e0b11390-e65d-419d-d2cd-c13b3670d42b"
      },
      "outputs": [
        {
          "output_type": "stream",
          "name": "stdout",
          "text": [
            "Addition Result:  tensor([2, 3, 4, 0])\n"
          ]
        }
      ],
      "source": [
        "# Tensor + Scalar\n",
        "u = torch.tensor([1, 2, 3, -1])\n",
        "v = u + 1\n",
        "print (\"Addition Result: \", v)"
      ],
      "execution_count": 49
    },
    {
      "cell_type": "markdown",
      "metadata": {
        "id": "83de8dce-1856-4b9b-841a-b4d2575f3983"
      },
      "source": [
        "<img src=\"https://s3-api.us-geo.objectstorage.softlayer.net/cf-courses-data/CognitiveClass/DL0110EN/notebook_images%20/chapter%201/brodcasting.gif\" width=\"500\" alt=\"tensor addition\">\n"
      ]
    },
    {
      "cell_type": "markdown",
      "metadata": {
        "id": "acbc71bc-1423-4b23-8735-573ccfe80e20"
      },
      "source": [
        "<!--Empty Space for separating topics-->\n"
      ]
    },
    {
      "cell_type": "markdown",
      "metadata": {
        "id": "85d75ab4-5fc3-4630-99e4-c3225b653512"
      },
      "source": [
        "<h3>Tensor Multiplication </h3>\n"
      ]
    },
    {
      "cell_type": "code",
      "metadata": {
        "colab": {
          "base_uri": "https://localhost:8080/"
        },
        "id": "13a3ed33-eabc-47c2-9662-3268674db8ea",
        "outputId": "df762e1c-d259-420d-ec03-2be0f670efe4"
      },
      "outputs": [
        {
          "output_type": "stream",
          "name": "stdout",
          "text": [
            "The result of 2 * u:  tensor([2, 4])\n",
            "The result of u * v tensor([3, 4])\n"
          ]
        }
      ],
      "source": [
        "# Tensor * Scalar\n",
        "u = torch.tensor([1, 2])\n",
        "v = 2 * u\n",
        "print(\"The result of 2 * u: \", v)\n",
        "\n",
        "# Tensor * Tensor\n",
        "u = torch.tensor([1, 2])\n",
        "v = torch.tensor([3, 2])\n",
        "w = u * v\n",
        "print (\"The result of u * v\", w)"
      ],
      "execution_count": 51
    },
    {
      "cell_type": "markdown",
      "metadata": {
        "id": "a6471363-0bd1-4238-9fe9-10a7a9322214"
      },
      "source": [
        "<h3>Dot Product</h3>\n"
      ]
    },
    {
      "cell_type": "code",
      "metadata": {
        "colab": {
          "base_uri": "https://localhost:8080/"
        },
        "id": "4567771e-ad71-42bd-97d4-117343903647",
        "outputId": "ca1b4b83-7fd4-4fe8-9b88-23c45782124b"
      },
      "outputs": [
        {
          "output_type": "stream",
          "name": "stdout",
          "text": [
            "Dot Product of u, v: tensor(7)\n"
          ]
        }
      ],
      "source": [
        "# Calculate dot product of u, v\n",
        "u = torch.tensor([1, 2])\n",
        "v = torch.tensor([3, 2])\n",
        "print(\"Dot Product of u, v:\", torch.dot(u,v))"
      ],
      "execution_count": 52
    }
  ],
  "metadata": {
    "kernelspec": {
      "display_name": "Python",
      "language": "python",
      "name": "conda-env-python-py"
    },
    "language_info": {
      "codemirror_mode": {
        "name": "ipython",
        "version": 3
      },
      "file_extension": ".py",
      "mimetype": "text/x-python",
      "name": "python",
      "nbconvert_exporter": "python",
      "pygments_lexer": "ipython3",
      "version": "3.7.12"
    },
    "prev_pub_hash": "4d762065d337f8dc543caf696368e8f4bba20788f358f310d5d3614bc9d0e194",
    "colab": {
      "provenance": [],
      "include_colab_link": true
    }
  },
  "nbformat": 4,
  "nbformat_minor": 0
}
