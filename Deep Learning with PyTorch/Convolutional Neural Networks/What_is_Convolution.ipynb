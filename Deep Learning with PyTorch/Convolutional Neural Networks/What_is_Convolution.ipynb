{
  "cells": [
    {
      "cell_type": "markdown",
      "metadata": {
        "id": "view-in-github",
        "colab_type": "text"
      },
      "source": [
        "<a href=\"https://colab.research.google.com/github/dogukartal/IBM_AI_Labs/blob/main/Deep%20Learning%20with%20PyTorch/Convolutional%20Neural%20Networks/What_is_Convolution.ipynb\" target=\"_parent\"><img src=\"https://colab.research.google.com/assets/colab-badge.svg\" alt=\"Open In Colab\"/></a>"
      ]
    },
    {
      "cell_type": "markdown",
      "metadata": {
        "id": "dfd005a9-153a-47e8-8d9e-1bc2c9702c03"
      },
      "source": [
        "# What is Convolution?\n",
        "---"
      ]
    },
    {
      "cell_type": "code",
      "metadata": {
        "id": "608ecfa5-6c1a-4aa2-a3a3-5580c811efa1"
      },
      "outputs": [],
      "source": [
        "import torch\n",
        "import torch.nn as nn\n",
        "import matplotlib.pyplot as plt\n",
        "import numpy as np\n",
        "from scipy import ndimage, misc"
      ],
      "execution_count": 2
    },
    {
      "cell_type": "markdown",
      "metadata": {
        "id": "da8800b7-001a-4950-98d6-28e622d4bd5f"
      },
      "source": [
        "<img src=\"https://s3-api.us-geo.objectstorage.softlayer.net/cf-courses-data/CognitiveClass/DL0110EN/notebook_images%20/chapter%206/6.1.1xw.png\" width=\"500,\" align=\"center\">\n"
      ]
    },
    {
      "cell_type": "code",
      "metadata": {
        "id": "36e6b766-d91b-40d6-813a-5781d145b05f",
        "colab": {
          "base_uri": "https://localhost:8080/"
        },
        "outputId": "00c4e325-7da9-4f06-cc1a-173f2d8f7b4c"
      },
      "outputs": [
        {
          "output_type": "execute_result",
          "data": {
            "text/plain": [
              "Conv2d(1, 1, kernel_size=(3, 3), stride=(1, 1))"
            ]
          },
          "metadata": {},
          "execution_count": 3
        }
      ],
      "source": [
        "conv = nn.Conv2d(in_channels=1, out_channels=1,kernel_size=3)\n",
        "conv"
      ],
      "execution_count": 3
    },
    {
      "cell_type": "code",
      "metadata": {
        "id": "271fcaf4-bfc9-4dea-b1ba-c7c65b1a66a7",
        "colab": {
          "base_uri": "https://localhost:8080/"
        },
        "outputId": "321a128b-5f09-4568-9d3f-900735090d2b"
      },
      "outputs": [
        {
          "output_type": "execute_result",
          "data": {
            "text/plain": [
              "OrderedDict([('weight',\n",
              "              tensor([[[[ 1.,  0., -1.],\n",
              "                        [ 2.,  0., -2.],\n",
              "                        [ 1.,  0., -1.]]]])),\n",
              "             ('bias', tensor([0.]))])"
            ]
          },
          "metadata": {},
          "execution_count": 4
        }
      ],
      "source": [
        "conv.state_dict()['weight'][0][0]=torch.tensor([[1.0,0,-1.0],[2.0,0,-2.0],[1.0,0.0,-1.0]])\n",
        "conv.state_dict()['bias'][0]=0.0\n",
        "conv.state_dict()"
      ],
      "execution_count": 4
    },
    {
      "cell_type": "code",
      "metadata": {
        "id": "ef83cd47-757f-4bc0-8784-60533e873e11",
        "colab": {
          "base_uri": "https://localhost:8080/"
        },
        "outputId": "7b9dd05f-c9ce-4107-a703-0678682c0392"
      },
      "outputs": [
        {
          "output_type": "execute_result",
          "data": {
            "text/plain": [
              "tensor([[[[0., 0., 1., 0., 0.],\n",
              "          [0., 0., 1., 0., 0.],\n",
              "          [0., 0., 1., 0., 0.],\n",
              "          [0., 0., 1., 0., 0.],\n",
              "          [0., 0., 1., 0., 0.]]]])"
            ]
          },
          "metadata": {},
          "execution_count": 5
        }
      ],
      "source": [
        "image=torch.zeros(1,1,5,5)\n",
        "image[0,0,:,2]=1\n",
        "image"
      ],
      "execution_count": 5
    },
    {
      "cell_type": "code",
      "metadata": {
        "id": "dda7d427-07d4-42cf-9387-a6a4286b4982",
        "colab": {
          "base_uri": "https://localhost:8080/"
        },
        "outputId": "52eef292-6502-492c-d8fd-0379135118c8"
      },
      "outputs": [
        {
          "output_type": "execute_result",
          "data": {
            "text/plain": [
              "tensor([[[[-4.,  0.,  4.],\n",
              "          [-4.,  0.,  4.],\n",
              "          [-4.,  0.,  4.]]]], grad_fn=<ConvolutionBackward0>)"
            ]
          },
          "metadata": {},
          "execution_count": 6
        }
      ],
      "source": [
        "z=conv(image)\n",
        "z"
      ],
      "execution_count": 6
    },
    {
      "cell_type": "markdown",
      "metadata": {
        "id": "d0d34977-6832-4cc3-97b9-27652c31b117"
      },
      "source": [
        "<img src=\"https://s3-api.us-geo.objectstorage.softlayer.net/cf-courses-data/CognitiveClass/DL0110EN/notebook_images%20/chapter%206/6.1.1convltuon.gif\" width=\"500,\" align=\"center\">\n"
      ]
    },
    {
      "cell_type": "markdown",
      "metadata": {
        "id": "3125c707-d0be-4f8a-a2d0-b20945e79b27"
      },
      "source": [
        "##Size of the Output"
      ]
    },
    {
      "cell_type": "markdown",
      "metadata": {
        "id": "b0ce2434-a2c2-4bbf-a38f-6c5fde839c6d"
      },
      "source": [
        "$$M_{new}=M-K+1$$\n"
      ]
    },
    {
      "cell_type": "code",
      "metadata": {
        "id": "17d8b607-1552-401c-a258-3d4b965d5033",
        "colab": {
          "base_uri": "https://localhost:8080/"
        },
        "outputId": "30ce4266-1606-4cc2-ec34-5cdb8e736e56"
      },
      "outputs": [
        {
          "output_type": "execute_result",
          "data": {
            "text/plain": [
              "Conv2d(1, 1, kernel_size=(2, 2), stride=(1, 1))"
            ]
          },
          "metadata": {},
          "execution_count": 7
        }
      ],
      "source": [
        "K=2\n",
        "conv1 = nn.Conv2d(in_channels=1, out_channels=1,kernel_size=K)\n",
        "conv1.state_dict()['weight'][0][0]=torch.tensor([[1.0,1.0],[1.0,1.0]])\n",
        "conv1.state_dict()['bias'][0]=0.0\n",
        "conv1.state_dict()\n",
        "conv1"
      ],
      "execution_count": 7
    },
    {
      "cell_type": "code",
      "metadata": {
        "id": "ab579092-3b10-4b52-8875-cd146f3a0eb8"
      },
      "outputs": [],
      "source": [
        "M=4\n",
        "image1=torch.ones(1,1,M,M)"
      ],
      "execution_count": 8
    },
    {
      "cell_type": "markdown",
      "metadata": {
        "id": "93d753ed-7500-45ee-841d-87c6975677d0"
      },
      "source": [
        "$$M_{new}=M-K+1$$\n",
        "$$M_{new}=4-2+1$$\n",
        "$$M_{new}=3$$\n"
      ]
    },
    {
      "cell_type": "code",
      "metadata": {
        "id": "95f92d6c-275e-4a4f-a893-75ebd7a78ae5",
        "colab": {
          "base_uri": "https://localhost:8080/"
        },
        "outputId": "ce3c7adb-2856-42ec-e3ff-1597870c9c97"
      },
      "outputs": [
        {
          "output_type": "stream",
          "name": "stdout",
          "text": [
            "z1: tensor([[[[4., 4., 4.],\n",
            "          [4., 4., 4.],\n",
            "          [4., 4., 4.]]]], grad_fn=<ConvolutionBackward0>)\n",
            "shape: torch.Size([3, 3])\n"
          ]
        }
      ],
      "source": [
        "z1=conv1(image1)\n",
        "print(\"z1:\",z1)\n",
        "print(\"shape:\",z1.shape[2:4])"
      ],
      "execution_count": 9
    },
    {
      "cell_type": "markdown",
      "metadata": {
        "id": "8c6bbca0-b9b9-4156-97d7-ce81a1ce6086"
      },
      "source": [
        "<img src=\"https://s3-api.us-geo.objectstorage.softlayer.net/cf-courses-data/CognitiveClass/DL0110EN/notebook_images%20/chapter%206/6.1.1kernal2.png\" width=\"500,\" align=\"center\">\n"
      ]
    },
    {
      "cell_type": "markdown",
      "metadata": {
        "id": "24719ea9-50ab-494e-ad10-436c68052395"
      },
      "source": [
        "<img src=\"https://s3-api.us-geo.objectstorage.softlayer.net/cf-courses-data/CognitiveClass/DL0110EN/notebook_images%20/chapter%206/6.1.1outsize.gif\" width=\"500,\" align=\"center\">\n"
      ]
    },
    {
      "cell_type": "markdown",
      "metadata": {
        "id": "1a22ddc8-9126-41dc-bbb9-35a2f58ec09d"
      },
      "source": [
        "##Stride"
      ]
    },
    {
      "cell_type": "markdown",
      "metadata": {
        "id": "f3e293ea-9a4b-4126-ba93-1d7c1d54cb63"
      },
      "source": [
        "$$M_{new}=\\dfrac{M-K}{stride}+1$$\n"
      ]
    },
    {
      "cell_type": "code",
      "metadata": {
        "id": "8a5c6bc6-413f-4993-a87f-7d637cab2510",
        "colab": {
          "base_uri": "https://localhost:8080/"
        },
        "outputId": "2a48e4eb-c8dc-45f9-8ef5-f9d9de74c432"
      },
      "outputs": [
        {
          "output_type": "execute_result",
          "data": {
            "text/plain": [
              "OrderedDict([('weight',\n",
              "              tensor([[[[1., 1.],\n",
              "                        [1., 1.]]]])),\n",
              "             ('bias', tensor([0.]))])"
            ]
          },
          "metadata": {},
          "execution_count": 10
        }
      ],
      "source": [
        "conv3 = nn.Conv2d(in_channels=1, out_channels=1,kernel_size=2,stride=2)\n",
        "\n",
        "conv3.state_dict()['weight'][0][0]=torch.tensor([[1.0,1.0],[1.0,1.0]])\n",
        "conv3.state_dict()['bias'][0]=0.0\n",
        "conv3.state_dict()"
      ],
      "execution_count": 10
    },
    {
      "cell_type": "markdown",
      "metadata": {
        "id": "90c53504-0c64-49f1-a597-0cfc0edb15f6"
      },
      "source": [
        "$$M_{new}=\\dfrac{M-K}{stride}+1$$\n",
        "$$M_{new}=\\dfrac{4-2}{2}+1$$\n",
        "$$M_{new}=2$$\n"
      ]
    },
    {
      "cell_type": "code",
      "metadata": {
        "id": "fb01564b-381f-49d0-bd3c-178990ad4d8a",
        "colab": {
          "base_uri": "https://localhost:8080/"
        },
        "outputId": "f6252dd0-dbba-4e7f-8689-03e6fc10fb90"
      },
      "outputs": [
        {
          "output_type": "stream",
          "name": "stdout",
          "text": [
            "z3: tensor([[[[4., 4.],\n",
            "          [4., 4.]]]], grad_fn=<ConvolutionBackward0>)\n",
            "shape: torch.Size([2, 2])\n"
          ]
        }
      ],
      "source": [
        "z3=conv3(image1)\n",
        "\n",
        "print(\"z3:\",z3)\n",
        "print(\"shape:\",z3.shape[2:4])"
      ],
      "execution_count": 11
    },
    {
      "cell_type": "markdown",
      "metadata": {
        "id": "b7e168ec-f4d1-43e2-b1ce-7fe9d12fa2f7"
      },
      "source": [
        "<img src=\"https://s3-api.us-geo.objectstorage.softlayer.net/cf-courses-data/CognitiveClass/DL0110EN/notebook_images%20/chapter%206/6.1.1stride2.gif\" width=\"500,\" align=\"center\">\n"
      ]
    },
    {
      "cell_type": "markdown",
      "metadata": {
        "id": "5bf72f1a-33a1-4fcb-8797-b149d96543a3"
      },
      "source": [
        "## Zero Padding"
      ]
    },
    {
      "cell_type": "code",
      "metadata": {
        "id": "8a4e00a3-c162-4667-b337-aac8c4628e57",
        "colab": {
          "base_uri": "https://localhost:8080/"
        },
        "outputId": "9d4046b9-d66e-421d-ada5-f50ec3b987dd"
      },
      "outputs": [
        {
          "output_type": "execute_result",
          "data": {
            "text/plain": [
              "tensor([[[[1., 1., 1., 1.],\n",
              "          [1., 1., 1., 1.],\n",
              "          [1., 1., 1., 1.],\n",
              "          [1., 1., 1., 1.]]]])"
            ]
          },
          "metadata": {},
          "execution_count": 12
        }
      ],
      "source": [
        "image1"
      ],
      "execution_count": 12
    },
    {
      "cell_type": "markdown",
      "metadata": {
        "id": "859311f1-7fdd-48e3-b841-b838859b1f45"
      },
      "source": [
        "$$M_{new}=\\dfrac{M-K}{stride}+1$$\n",
        "$$M_{new}=\\dfrac{4-2}{3}+1$$\n",
        "$$M_{new}=1.666$$\n"
      ]
    },
    {
      "cell_type": "code",
      "metadata": {
        "id": "d26c68f5-6c41-4398-857a-4a16de2f4420",
        "colab": {
          "base_uri": "https://localhost:8080/"
        },
        "outputId": "f99f4203-f3cb-4ba2-cec9-d63e3acf88b1"
      },
      "outputs": [
        {
          "output_type": "stream",
          "name": "stdout",
          "text": [
            "z4: tensor([[[[4.]]]], grad_fn=<ConvolutionBackward0>)\n",
            "z4: torch.Size([1, 1])\n"
          ]
        }
      ],
      "source": [
        "conv4 = nn.Conv2d(in_channels=1, out_channels=1,kernel_size=2,stride=3)\n",
        "conv4.state_dict()['weight'][0][0]=torch.tensor([[1.0,1.0],[1.0,1.0]])\n",
        "conv4.state_dict()['bias'][0]=0.0\n",
        "conv4.state_dict()\n",
        "z4=conv4(image1)\n",
        "print(\"z4:\",z4)\n",
        "print(\"z4:\",z4.shape[2:4])"
      ],
      "execution_count": 13
    },
    {
      "cell_type": "markdown",
      "metadata": {
        "id": "3fb5a9e6-3370-40e8-a7a2-83b5fbff4e33"
      },
      "source": [
        "$$M'=M+2 \\times padding$$\n",
        "$$M_{new}=M'-K+1$$\n"
      ]
    },
    {
      "cell_type": "code",
      "metadata": {
        "id": "1ca82f0b-6035-4b10-8454-ca28e8a7bd12",
        "colab": {
          "base_uri": "https://localhost:8080/"
        },
        "outputId": "77d4e010-c1c4-470b-ced8-5a53239b015f"
      },
      "outputs": [
        {
          "output_type": "stream",
          "name": "stdout",
          "text": [
            "z5: tensor([[[[1., 2.],\n",
            "          [2., 4.]]]], grad_fn=<ConvolutionBackward0>)\n",
            "z4: torch.Size([1, 1])\n"
          ]
        }
      ],
      "source": [
        "conv5 = nn.Conv2d(in_channels=1, out_channels=1,kernel_size=2,stride=3,padding=1)\n",
        "\n",
        "conv5.state_dict()['weight'][0][0]=torch.tensor([[1.0,1.0],[1.0,1.0]])\n",
        "conv5.state_dict()['bias'][0]=0.0\n",
        "conv5.state_dict()\n",
        "z5=conv5(image1)\n",
        "print(\"z5:\",z5)\n",
        "print(\"z4:\",z4.shape[2:4])"
      ],
      "execution_count": 15
    },
    {
      "cell_type": "markdown",
      "metadata": {
        "id": "b9b858d2-d10e-49fa-b5c8-3c951bd046e4"
      },
      "source": [
        "The process is summarized in the following  animation:\n"
      ]
    },
    {
      "cell_type": "markdown",
      "metadata": {
        "id": "a8a18d24-c239-4319-bc11-ff8ce84cb41d"
      },
      "source": [
        "<img src=\"https://s3-api.us-geo.objectstorage.softlayer.net/cf-courses-data/CognitiveClass/DL0110EN/notebook_images%20/chapter%206/6.1.1zeropad.gif\" width=\"500,\" align=\"center\">\n"
      ]
    }
  ],
  "metadata": {
    "kernelspec": {
      "display_name": "Python 3",
      "name": "python3"
    },
    "language_info": {
      "name": "python"
    },
    "colab": {
      "provenance": [],
      "gpuType": "T4",
      "include_colab_link": true
    },
    "accelerator": "GPU"
  },
  "nbformat": 4,
  "nbformat_minor": 0
}